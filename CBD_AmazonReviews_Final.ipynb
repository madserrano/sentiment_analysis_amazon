{
 "cells": [
  {
   "cell_type": "markdown",
   "metadata": {},
   "source": [
    "# Sentiment Analysis for Amazon Product Reviews"
   ]
  },
  {
   "cell_type": "markdown",
   "metadata": {
    "id": "ZmKXQxRwi5MU"
   },
   "source": [
    "# **I. Train dataset from Amazon**"
   ]
  },
  {
   "cell_type": "markdown",
   "metadata": {
    "id": "4XSvUzH6L9qS"
   },
   "source": [
    "## **A. Data Analysis**"
   ]
  },
  {
   "cell_type": "code",
   "execution_count": 1,
   "metadata": {
    "colab": {
     "base_uri": "https://localhost:8080/"
    },
    "id": "gC9Jhc5ZMCbW",
    "outputId": "ba3be181-134b-4cb5-a1e2-51ecdb9333f9"
   },
   "outputs": [],
   "source": [
    "# Install the following modules initially\n",
    "#!pip install spacy\n",
    "#!python -m spacy download en_core_web_md\n",
    "#nltk.download('punkt')"
   ]
  },
  {
   "cell_type": "code",
   "execution_count": 2,
   "metadata": {
    "colab": {
     "base_uri": "https://localhost:8080/"
    },
    "id": "buXZ0AeHKZds",
    "outputId": "f2576ec4-766c-48b0-c17e-42e03a6c42e7"
   },
   "outputs": [],
   "source": [
    "# Import libraries\n",
    "import numpy as np\n",
    "import pandas as pd\n",
    "import seaborn as sns\n",
    "import matplotlib.pyplot as plt\n",
    "\n",
    "import nltk\n",
    "from sklearn.model_selection import train_test_split\n",
    "from sklearn.feature_extraction.text import CountVectorizer\n",
    "from sklearn.feature_extraction.text import TfidfTransformer\n",
    "from sklearn.naive_bayes import MultinomialNB\n",
    "from sklearn.metrics import classification_report, accuracy_score"
   ]
  },
  {
   "cell_type": "markdown",
   "metadata": {
    "id": "ciZSLQMCLobB"
   },
   "source": [
    "### **A.1 Loading the dataset**"
   ]
  },
  {
   "cell_type": "code",
   "execution_count": 9,
   "metadata": {
    "colab": {
     "base_uri": "https://localhost:8080/",
     "height": 408
    },
    "id": "sWHiUXD-KcRK",
    "outputId": "23f93598-b198-4f83-9e67-ce1f5a13604a"
   },
   "outputs": [
    {
     "data": {
      "text/html": [
       "<div>\n",
       "<style scoped>\n",
       "    .dataframe tbody tr th:only-of-type {\n",
       "        vertical-align: middle;\n",
       "    }\n",
       "\n",
       "    .dataframe tbody tr th {\n",
       "        vertical-align: top;\n",
       "    }\n",
       "\n",
       "    .dataframe thead th {\n",
       "        text-align: right;\n",
       "    }\n",
       "</style>\n",
       "<table border=\"1\" class=\"dataframe\">\n",
       "  <thead>\n",
       "    <tr style=\"text-align: right;\">\n",
       "      <th></th>\n",
       "      <th>Label</th>\n",
       "      <th>Review</th>\n",
       "    </tr>\n",
       "  </thead>\n",
       "  <tbody>\n",
       "    <tr>\n",
       "      <th>0</th>\n",
       "      <td>positive</td>\n",
       "      <td>Stuning even for the non-gamer: This sound tra...</td>\n",
       "    </tr>\n",
       "    <tr>\n",
       "      <th>1</th>\n",
       "      <td>positive</td>\n",
       "      <td>The best soundtrack ever to anything.: I'm rea...</td>\n",
       "    </tr>\n",
       "    <tr>\n",
       "      <th>2</th>\n",
       "      <td>positive</td>\n",
       "      <td>Amazing!: This soundtrack is my favorite music...</td>\n",
       "    </tr>\n",
       "    <tr>\n",
       "      <th>3</th>\n",
       "      <td>positive</td>\n",
       "      <td>Excellent Soundtrack: I truly like this soundt...</td>\n",
       "    </tr>\n",
       "    <tr>\n",
       "      <th>4</th>\n",
       "      <td>positive</td>\n",
       "      <td>Remember, Pull Your Jaw Off The Floor After He...</td>\n",
       "    </tr>\n",
       "  </tbody>\n",
       "</table>\n",
       "</div>"
      ],
      "text/plain": [
       "       Label                                             Review\n",
       "0  positive   Stuning even for the non-gamer: This sound tra...\n",
       "1  positive   The best soundtrack ever to anything.: I'm rea...\n",
       "2  positive   Amazing!: This soundtrack is my favorite music...\n",
       "3  positive   Excellent Soundtrack: I truly like this soundt...\n",
       "4  positive   Remember, Pull Your Jaw Off The Floor After He..."
      ]
     },
     "execution_count": 9,
     "metadata": {},
     "output_type": "execute_result"
    }
   ],
   "source": [
    "df = pd.read_csv('amazon_reviews.csv')\n",
    "df.head()"
   ]
  },
  {
   "cell_type": "code",
   "execution_count": 10,
   "metadata": {
    "id": "HEeGULt-7ECZ"
   },
   "outputs": [
    {
     "name": "stdout",
     "output_type": "stream",
     "text": [
      "<class 'pandas.core.frame.DataFrame'>\n",
      "RangeIndex: 1048575 entries, 0 to 1048574\n",
      "Data columns (total 2 columns):\n",
      " #   Column  Non-Null Count    Dtype \n",
      "---  ------  --------------    ----- \n",
      " 0   Label   1048538 non-null  object\n",
      " 1   Review  1044134 non-null  object\n",
      "dtypes: object(2)\n",
      "memory usage: 16.0+ MB\n"
     ]
    }
   ],
   "source": [
    "df.info()"
   ]
  },
  {
   "cell_type": "code",
   "execution_count": 11,
   "metadata": {
    "id": "mbmXuj1HLZfl"
   },
   "outputs": [
    {
     "data": {
      "text/html": [
       "<div>\n",
       "<style scoped>\n",
       "    .dataframe tbody tr th:only-of-type {\n",
       "        vertical-align: middle;\n",
       "    }\n",
       "\n",
       "    .dataframe tbody tr th {\n",
       "        vertical-align: top;\n",
       "    }\n",
       "\n",
       "    .dataframe thead th {\n",
       "        text-align: right;\n",
       "    }\n",
       "</style>\n",
       "<table border=\"1\" class=\"dataframe\">\n",
       "  <thead>\n",
       "    <tr style=\"text-align: right;\">\n",
       "      <th></th>\n",
       "      <th>Label</th>\n",
       "      <th>Review</th>\n",
       "    </tr>\n",
       "  </thead>\n",
       "  <tbody>\n",
       "    <tr>\n",
       "      <th>0</th>\n",
       "      <td>positive</td>\n",
       "      <td>Stuning even for the non-gamer: This sound tra...</td>\n",
       "    </tr>\n",
       "    <tr>\n",
       "      <th>1</th>\n",
       "      <td>positive</td>\n",
       "      <td>The best soundtrack ever to anything.: I'm rea...</td>\n",
       "    </tr>\n",
       "    <tr>\n",
       "      <th>2</th>\n",
       "      <td>positive</td>\n",
       "      <td>Amazing!: This soundtrack is my favorite music...</td>\n",
       "    </tr>\n",
       "    <tr>\n",
       "      <th>3</th>\n",
       "      <td>positive</td>\n",
       "      <td>Excellent Soundtrack: I truly like this soundt...</td>\n",
       "    </tr>\n",
       "    <tr>\n",
       "      <th>4</th>\n",
       "      <td>positive</td>\n",
       "      <td>Remember, Pull Your Jaw Off The Floor After He...</td>\n",
       "    </tr>\n",
       "  </tbody>\n",
       "</table>\n",
       "</div>"
      ],
      "text/plain": [
       "       Label                                             Review\n",
       "0  positive   Stuning even for the non-gamer: This sound tra...\n",
       "1  positive   The best soundtrack ever to anything.: I'm rea...\n",
       "2  positive   Amazing!: This soundtrack is my favorite music...\n",
       "3  positive   Excellent Soundtrack: I truly like this soundt...\n",
       "4  positive   Remember, Pull Your Jaw Off The Floor After He..."
      ]
     },
     "execution_count": 11,
     "metadata": {},
     "output_type": "execute_result"
    }
   ],
   "source": [
    "# Drop the samples with missing data\n",
    "df.dropna(inplace=True)\n",
    "df.head()"
   ]
  },
  {
   "cell_type": "code",
   "execution_count": 12,
   "metadata": {
    "id": "LRxmte6OQPO_"
   },
   "outputs": [
    {
     "data": {
      "text/html": [
       "<div>\n",
       "<style scoped>\n",
       "    .dataframe tbody tr th:only-of-type {\n",
       "        vertical-align: middle;\n",
       "    }\n",
       "\n",
       "    .dataframe tbody tr th {\n",
       "        vertical-align: top;\n",
       "    }\n",
       "\n",
       "    .dataframe thead th {\n",
       "        text-align: right;\n",
       "    }\n",
       "</style>\n",
       "<table border=\"1\" class=\"dataframe\">\n",
       "  <thead>\n",
       "    <tr style=\"text-align: right;\">\n",
       "      <th></th>\n",
       "      <th>Label</th>\n",
       "      <th>Review</th>\n",
       "    </tr>\n",
       "  </thead>\n",
       "  <tbody>\n",
       "    <tr>\n",
       "      <th>0</th>\n",
       "      <td>positive</td>\n",
       "      <td>Stuning even for the non-gamer: This sound tra...</td>\n",
       "    </tr>\n",
       "    <tr>\n",
       "      <th>1</th>\n",
       "      <td>positive</td>\n",
       "      <td>The best soundtrack ever to anything.: I'm rea...</td>\n",
       "    </tr>\n",
       "    <tr>\n",
       "      <th>2</th>\n",
       "      <td>positive</td>\n",
       "      <td>Amazing!: This soundtrack is my favorite music...</td>\n",
       "    </tr>\n",
       "    <tr>\n",
       "      <th>3</th>\n",
       "      <td>positive</td>\n",
       "      <td>Excellent Soundtrack: I truly like this soundt...</td>\n",
       "    </tr>\n",
       "    <tr>\n",
       "      <th>4</th>\n",
       "      <td>positive</td>\n",
       "      <td>Remember, Pull Your Jaw Off The Floor After He...</td>\n",
       "    </tr>\n",
       "    <tr>\n",
       "      <th>...</th>\n",
       "      <td>...</td>\n",
       "      <td>...</td>\n",
       "    </tr>\n",
       "    <tr>\n",
       "      <th>502053</th>\n",
       "      <td>negative</td>\n",
       "      <td>Yuck!: The girls in this specific video are RE...</td>\n",
       "    </tr>\n",
       "    <tr>\n",
       "      <th>502054</th>\n",
       "      <td>positive</td>\n",
       "      <td>Hi-Fi - Hugh Cornwell: Certainly well worth a ...</td>\n",
       "    </tr>\n",
       "    <tr>\n",
       "      <th>502055</th>\n",
       "      <td>negative</td>\n",
       "      <td>Black and White Illustrations: Do you want a b...</td>\n",
       "    </tr>\n",
       "    <tr>\n",
       "      <th>502056</th>\n",
       "      <td>positive</td>\n",
       "      <td>Brown thumb to green- brown yard to rainbow of...</td>\n",
       "    </tr>\n",
       "    <tr>\n",
       "      <th>502057</th>\n",
       "      <td>positive</td>\n",
       "      <td>Book Review: \"Metro\", February 1997 by J. Ryan...</td>\n",
       "    </tr>\n",
       "  </tbody>\n",
       "</table>\n",
       "<p>500000 rows × 2 columns</p>\n",
       "</div>"
      ],
      "text/plain": [
       "            Label                                             Review\n",
       "0       positive   Stuning even for the non-gamer: This sound tra...\n",
       "1       positive   The best soundtrack ever to anything.: I'm rea...\n",
       "2       positive   Amazing!: This soundtrack is my favorite music...\n",
       "3       positive   Excellent Soundtrack: I truly like this soundt...\n",
       "4       positive   Remember, Pull Your Jaw Off The Floor After He...\n",
       "...           ...                                                ...\n",
       "502053  negative   Yuck!: The girls in this specific video are RE...\n",
       "502054  positive   Hi-Fi - Hugh Cornwell: Certainly well worth a ...\n",
       "502055  negative   Black and White Illustrations: Do you want a b...\n",
       "502056  positive   Brown thumb to green- brown yard to rainbow of...\n",
       "502057  positive   Book Review: \"Metro\", February 1997 by J. Ryan...\n",
       "\n",
       "[500000 rows x 2 columns]"
      ]
     },
     "execution_count": 12,
     "metadata": {},
     "output_type": "execute_result"
    }
   ],
   "source": [
    "# Lets use only the top 500K for faster processing\n",
    "df1 = df[:500000]\n",
    "df1"
   ]
  },
  {
   "cell_type": "code",
   "execution_count": 13,
   "metadata": {
    "id": "zqBCOi_oObza"
   },
   "outputs": [
    {
     "data": {
      "text/html": [
       "<div>\n",
       "<style scoped>\n",
       "    .dataframe tbody tr th:only-of-type {\n",
       "        vertical-align: middle;\n",
       "    }\n",
       "\n",
       "    .dataframe tbody tr th {\n",
       "        vertical-align: top;\n",
       "    }\n",
       "\n",
       "    .dataframe thead th {\n",
       "        text-align: right;\n",
       "    }\n",
       "</style>\n",
       "<table border=\"1\" class=\"dataframe\">\n",
       "  <thead>\n",
       "    <tr style=\"text-align: right;\">\n",
       "      <th></th>\n",
       "      <th>Label</th>\n",
       "      <th>Review</th>\n",
       "    </tr>\n",
       "  </thead>\n",
       "  <tbody>\n",
       "    <tr>\n",
       "      <th>0</th>\n",
       "      <td>positive</td>\n",
       "      <td>Stuning even for the non-gamer: This sound tra...</td>\n",
       "    </tr>\n",
       "    <tr>\n",
       "      <th>1</th>\n",
       "      <td>positive</td>\n",
       "      <td>The best soundtrack ever to anything.: I'm rea...</td>\n",
       "    </tr>\n",
       "    <tr>\n",
       "      <th>2</th>\n",
       "      <td>positive</td>\n",
       "      <td>Amazing!: This soundtrack is my favorite music...</td>\n",
       "    </tr>\n",
       "    <tr>\n",
       "      <th>3</th>\n",
       "      <td>positive</td>\n",
       "      <td>Excellent Soundtrack: I truly like this soundt...</td>\n",
       "    </tr>\n",
       "    <tr>\n",
       "      <th>4</th>\n",
       "      <td>positive</td>\n",
       "      <td>Remember, Pull Your Jaw Off The Floor After He...</td>\n",
       "    </tr>\n",
       "    <tr>\n",
       "      <th>...</th>\n",
       "      <td>...</td>\n",
       "      <td>...</td>\n",
       "    </tr>\n",
       "    <tr>\n",
       "      <th>499926</th>\n",
       "      <td>negative</td>\n",
       "      <td>Yuck!: The girls in this specific video are RE...</td>\n",
       "    </tr>\n",
       "    <tr>\n",
       "      <th>499927</th>\n",
       "      <td>positive</td>\n",
       "      <td>Hi-Fi - Hugh Cornwell: Certainly well worth a ...</td>\n",
       "    </tr>\n",
       "    <tr>\n",
       "      <th>499928</th>\n",
       "      <td>negative</td>\n",
       "      <td>Black and White Illustrations: Do you want a b...</td>\n",
       "    </tr>\n",
       "    <tr>\n",
       "      <th>499929</th>\n",
       "      <td>positive</td>\n",
       "      <td>Brown thumb to green- brown yard to rainbow of...</td>\n",
       "    </tr>\n",
       "    <tr>\n",
       "      <th>499930</th>\n",
       "      <td>positive</td>\n",
       "      <td>Book Review: \"Metro\", February 1997 by J. Ryan...</td>\n",
       "    </tr>\n",
       "  </tbody>\n",
       "</table>\n",
       "<p>499931 rows × 2 columns</p>\n",
       "</div>"
      ],
      "text/plain": [
       "           Label                                             Review\n",
       "0       positive  Stuning even for the non-gamer: This sound tra...\n",
       "1       positive  The best soundtrack ever to anything.: I'm rea...\n",
       "2       positive  Amazing!: This soundtrack is my favorite music...\n",
       "3       positive  Excellent Soundtrack: I truly like this soundt...\n",
       "4       positive  Remember, Pull Your Jaw Off The Floor After He...\n",
       "...          ...                                                ...\n",
       "499926  negative  Yuck!: The girls in this specific video are RE...\n",
       "499927  positive  Hi-Fi - Hugh Cornwell: Certainly well worth a ...\n",
       "499928  negative  Black and White Illustrations: Do you want a b...\n",
       "499929  positive  Brown thumb to green- brown yard to rainbow of...\n",
       "499930  positive  Book Review: \"Metro\", February 1997 by J. Ryan...\n",
       "\n",
       "[499931 rows x 2 columns]"
      ]
     },
     "execution_count": 13,
     "metadata": {},
     "output_type": "execute_result"
    }
   ],
   "source": [
    "import warnings\n",
    "warnings.filterwarnings(\"ignore\")\n",
    "\n",
    "df1 = df1[(df['Label']=='positive ') | (df['Label']=='negative ')]\n",
    "df1['Label'].replace({'positive ':'positive', 'negative ':'negative'}, inplace=True)\n",
    "df1.reset_index(inplace=True)\n",
    "del df1['index']\n",
    "df1"
   ]
  },
  {
   "cell_type": "markdown",
   "metadata": {
    "id": "qy1_f450LdaI"
   },
   "source": [
    "## **B. Data Preparation**"
   ]
  },
  {
   "cell_type": "code",
   "execution_count": 14,
   "metadata": {
    "id": "cOscBmOwLZiD"
   },
   "outputs": [],
   "source": [
    "# Split the data\n",
    "#train_set, test_set, y_train, y_test = train_test_split(df['Review'], df['Label'], test_size = 0.3, random_state=12)\n",
    "train_set, test_set, y_train, y_test = train_test_split(df1['Review'], df1['Label'], test_size = 0.3, random_state=12)"
   ]
  },
  {
   "cell_type": "code",
   "execution_count": 15,
   "metadata": {
    "id": "pVoPRzIeLZk9"
   },
   "outputs": [],
   "source": [
    "# Transform Reviews text into a sparse matrix of n-gram counts by initiatlizing CountVectorizer\n",
    "reviews_vector = CountVectorizer(min_df=2, tokenizer=nltk.word_tokenize, max_features=2000) # use top 2000 words only\n",
    "\n",
    "# fit and transform the training_set\n",
    "train_set_counts = reviews_vector.fit_transform(train_set)"
   ]
  },
  {
   "cell_type": "code",
   "execution_count": 16,
   "metadata": {
    "id": "AkmwRNv4MPXo"
   },
   "outputs": [
    {
     "data": {
      "text/plain": [
       "(349951, 2000)"
      ]
     },
     "execution_count": 16,
     "metadata": {},
     "output_type": "execute_result"
    }
   ],
   "source": [
    "# Check the shape of counts data\n",
    "train_set_counts.shape"
   ]
  },
  {
   "cell_type": "code",
   "execution_count": 17,
   "metadata": {
    "id": "m8JaIRQRMPbr"
   },
   "outputs": [],
   "source": [
    "# Convert raw frequency counts into TF-IDF values\n",
    "reviews_tfidf = TfidfTransformer()\n",
    "train_set_tfidf = reviews_tfidf.fit_transform(train_set_counts)"
   ]
  },
  {
   "cell_type": "code",
   "execution_count": 18,
   "metadata": {
    "id": "aZknkPx8MPkO"
   },
   "outputs": [
    {
     "data": {
      "text/plain": [
       "(349951, 2000)"
      ]
     },
     "execution_count": 18,
     "metadata": {},
     "output_type": "execute_result"
    }
   ],
   "source": [
    "# Check the shape of tfidf data\n",
    "train_set_tfidf.shape"
   ]
  },
  {
   "cell_type": "code",
   "execution_count": 19,
   "metadata": {
    "id": "S58nblaRMnY4"
   },
   "outputs": [],
   "source": [
    "# Transform test data using fitted vectorizer and transformer\n",
    "test_set_counts = reviews_vector.transform(test_set)\n",
    "test_set_tfidf = reviews_tfidf.transform(test_set_counts)"
   ]
  },
  {
   "cell_type": "code",
   "execution_count": 20,
   "metadata": {
    "id": "lYl43Kj2jXkl"
   },
   "outputs": [],
   "source": [
    "# Scale train and test data\n",
    "from sklearn.preprocessing import MaxAbsScaler\n",
    "\n",
    "scaler = MaxAbsScaler()\n",
    "train_set_tfidf = scaler.fit_transform(train_set_tfidf)\n",
    "test_set_tfidf = scaler.fit_transform(test_set_tfidf)"
   ]
  },
  {
   "cell_type": "markdown",
   "metadata": {
    "id": "CpXmwv7fOCdK"
   },
   "source": [
    "## **C. Model build**"
   ]
  },
  {
   "cell_type": "markdown",
   "metadata": {
    "id": "ZBhbkBe4Zx74"
   },
   "source": [
    "#### **Multinomial Naive Bayes**"
   ]
  },
  {
   "cell_type": "code",
   "execution_count": 21,
   "metadata": {
    "id": "7EFd50YCMnM4"
   },
   "outputs": [
    {
     "data": {
      "text/plain": [
       "MultinomialNB()"
      ]
     },
     "execution_count": 21,
     "metadata": {},
     "output_type": "execute_result"
    }
   ],
   "source": [
    "# Now, we can build our classifier. We will use Multinomial Naive Bayes\n",
    "# The multinomial Naive Bayes classifier is suitable for classification with discrete features (e.g., word counts for text classification). \n",
    "# It normally requires integer feature counts. However, in practice, fractional counts such as tf-idf may also work.\n",
    "\n",
    "nb = MultinomialNB()\n",
    "nb.fit(train_set_tfidf, y_train)"
   ]
  },
  {
   "cell_type": "code",
   "execution_count": 22,
   "metadata": {
    "id": "whBdEEZ5MnHT"
   },
   "outputs": [
    {
     "name": "stdout",
     "output_type": "stream",
     "text": [
      "Multinomial Naive Bayes Accuracy : 0.844439258567809\n"
     ]
    }
   ],
   "source": [
    "# Predict the test result and print accuracy\n",
    "y_pred_nb = nb.predict(test_set_tfidf)\n",
    "accuracy = accuracy_score(y_test, y_pred_nb)\n",
    "print(\"Multinomial Naive Bayes Accuracy : {}\".format(accuracy))"
   ]
  },
  {
   "cell_type": "markdown",
   "metadata": {
    "id": "7bwsimJuaeJ1"
   },
   "source": [
    "#### **Logistic Regression**"
   ]
  },
  {
   "cell_type": "code",
   "execution_count": 23,
   "metadata": {
    "id": "IqG2MnY2aio-"
   },
   "outputs": [
    {
     "data": {
      "text/plain": [
       "LogisticRegression(max_iter=2000, random_state=42, solver='liblinear')"
      ]
     },
     "execution_count": 23,
     "metadata": {},
     "output_type": "execute_result"
    }
   ],
   "source": [
    "from sklearn.linear_model import LogisticRegression\n",
    "\n",
    "lr = LogisticRegression(solver = 'liblinear', random_state = 42, max_iter=2000)\n",
    "lr.fit(train_set_tfidf, y_train)"
   ]
  },
  {
   "cell_type": "code",
   "execution_count": 24,
   "metadata": {
    "id": "ZREhhz2Paiko"
   },
   "outputs": [
    {
     "name": "stdout",
     "output_type": "stream",
     "text": [
      "Linear Regression Accuracy : 0.8828710494732631\n"
     ]
    }
   ],
   "source": [
    "# Predict the test reult and print accuracy\n",
    "y_pred_lr = lr.predict(test_set_tfidf)\n",
    "accuracy = accuracy_score(y_test, y_pred_lr)\n",
    "print(\"Linear Regression Accuracy : {}\".format(accuracy))"
   ]
  },
  {
   "cell_type": "markdown",
   "metadata": {
    "id": "f6qS4c_CuBqo"
   },
   "source": [
    "#### **Random Forrest**"
   ]
  },
  {
   "cell_type": "code",
   "execution_count": 25,
   "metadata": {
    "id": "sIR20g9PuAvh"
   },
   "outputs": [
    {
     "data": {
      "text/plain": [
       "RandomForestClassifier(max_depth=2, max_features=2000, random_state=0)"
      ]
     },
     "execution_count": 25,
     "metadata": {},
     "output_type": "execute_result"
    }
   ],
   "source": [
    "from sklearn.ensemble import RandomForestClassifier\n",
    "\n",
    "rf = RandomForestClassifier(max_depth=2, random_state=0, max_features=2000)\n",
    "rf.fit(train_set_tfidf, y_train)"
   ]
  },
  {
   "cell_type": "code",
   "execution_count": 26,
   "metadata": {
    "id": "O8V5DYQDuBH7"
   },
   "outputs": [
    {
     "name": "stdout",
     "output_type": "stream",
     "text": [
      "Random Forrest Accuracy : 0.6375783437791706\n"
     ]
    }
   ],
   "source": [
    "# Predict the test reult and print accuracy\n",
    "y_pred_rf = rf.predict(test_set_tfidf)\n",
    "accuracy = accuracy_score(y_test, y_pred_rf)\n",
    "print(\"Random Forrest Accuracy : {}\".format(accuracy))"
   ]
  },
  {
   "cell_type": "markdown",
   "metadata": {
    "id": "hJ7bo4v1lU84"
   },
   "source": [
    "#### **Linear Support Vector Machine (SVM)**"
   ]
  },
  {
   "cell_type": "code",
   "execution_count": 27,
   "metadata": {
    "id": "9F6ScngrG1SO"
   },
   "outputs": [
    {
     "data": {
      "text/plain": [
       "LinearSVC(max_iter=2000, random_state=0)"
      ]
     },
     "execution_count": 27,
     "metadata": {},
     "output_type": "execute_result"
    }
   ],
   "source": [
    "from sklearn.svm import LinearSVC\n",
    "\n",
    "svm = LinearSVC(random_state=0, max_iter=2000)\n",
    "svm.fit(train_set_tfidf, y_train)"
   ]
  },
  {
   "cell_type": "code",
   "execution_count": 28,
   "metadata": {
    "id": "dWBQAeBHHI4q"
   },
   "outputs": [
    {
     "name": "stdout",
     "output_type": "stream",
     "text": [
      "Support Vector Machine Accuracy : 0.8828110414721962\n"
     ]
    }
   ],
   "source": [
    "# Predict the test reult and print accuracy\n",
    "y_pred_svm = svm.predict(test_set_tfidf)\n",
    "accuracy = accuracy_score(y_test, y_pred_svm)\n",
    "print(\"Support Vector Machine Accuracy : {}\".format(accuracy))"
   ]
  },
  {
   "cell_type": "markdown",
   "metadata": {
    "id": "lGo7PByDzLwW"
   },
   "source": [
    "#### **Saving Models**"
   ]
  },
  {
   "cell_type": "code",
   "execution_count": 29,
   "metadata": {
    "id": "_IoQNJVmgE35"
   },
   "outputs": [],
   "source": [
    "import pickle\n",
    "classifier_saver = open('Naive_Bayes.plk', 'wb')\n",
    "pickle.dump(nb, classifier_saver)\n",
    "classifier_saver.close()\n",
    "\n",
    "classifier_saver = open('Logistic_regression.plk', 'wb')\n",
    "pickle.dump(lr, classifier_saver)\n",
    "classifier_saver.close()\n",
    "\n",
    "classifier_saver = open('SVM.plk', 'wb')\n",
    "pickle.dump(svm, classifier_saver)\n",
    "classifier_saver.close()"
   ]
  },
  {
   "cell_type": "markdown",
   "metadata": {
    "id": "lNWuh5aHvbe-"
   },
   "source": [
    "### **Result**"
   ]
  },
  {
   "cell_type": "code",
   "execution_count": 30,
   "metadata": {
    "id": "gvv8RHb2uqGN"
   },
   "outputs": [
    {
     "data": {
      "image/png": "[encoded data removed]",
      "text/plain": [
       "<Figure size 720x360 with 1 Axes>"
      ]
     },
     "metadata": {},
     "output_type": "display_data"
    }
   ],
   "source": [
    "# Comparing Models\n",
    "accuracies = {}\n",
    "\n",
    "accuracies['Multinomial Naive Bayes']=accuracy_score(y_test, y_pred_nb)\n",
    "accuracies['Linear Regression']=accuracy_score(y_test, y_pred_lr)\n",
    "accuracies['Random Forest']=accuracy_score(y_test, y_pred_rf)\n",
    "accuracies['Support Vector Machine']=accuracy_score(y_test, y_pred_svm)\n",
    "\n",
    "colors = [\"#7D0552\", \"#254117\", \"#FFA500\", \"#800000\",\"#CFC60E\",\"#0FBBAE\"]\n",
    "\n",
    "sns.set_style(\"whitegrid\")\n",
    "plt.figure(figsize=(10,5))\n",
    "plt.yticks(np.arange(0,100,10))\n",
    "plt.ylabel(\"Accuracy %\")\n",
    "plt.xlabel(\"Algorithms\")\n",
    "sns.barplot(x=list(accuracies.keys()), y=list(accuracies.values()), palette=colors)\n",
    "plt.show()"
   ]
  },
  {
   "cell_type": "markdown",
   "metadata": {
    "id": "KlM4zGtElR1a"
   },
   "source": [
    "### **Validation**"
   ]
  },
  {
   "cell_type": "code",
   "execution_count": 31,
   "metadata": {
    "id": "Tm7WzguIkuGe"
   },
   "outputs": [],
   "source": [
    "# Let's try to test the model on a sample review\n",
    "my_review = ['The movie was excellent', 'It was trash', 'I love it', 'It was childish']\n",
    "my_review_counts = reviews_vector.transform(my_review)\n",
    "my_review_tfidf = reviews_tfidf.transform(my_review_counts)\n",
    "my_review_tfidf = scaler.fit_transform(my_review_tfidf)"
   ]
  },
  {
   "cell_type": "code",
   "execution_count": 32,
   "metadata": {
    "id": "03G4LIXXkvmG"
   },
   "outputs": [],
   "source": [
    "# Uncomment the classifier that you want to test\n",
    "\n",
    "pred = nb.predict(my_review_tfidf) \n",
    "#pred = lr.predict(my_review_tfidf) \n",
    "#pred = rf.predict(my_review_tfidf) \n",
    "#pred = svm.predict(my_review_tfidf) "
   ]
  },
  {
   "cell_type": "code",
   "execution_count": 33,
   "metadata": {
    "id": "cVvNPshluJqm"
   },
   "outputs": [
    {
     "name": "stdout",
     "output_type": "stream",
     "text": [
      "'The movie was excellent' is positive\n",
      "'It was trash' is negative\n",
      "'I love it' is positive\n",
      "'It was childish' is negative\n"
     ]
    }
   ],
   "source": [
    "for review, pred in zip(my_review, pred):\n",
    "  print('%r is %s' % (review, pred))"
   ]
  },
  {
   "cell_type": "markdown",
   "metadata": {
    "id": "zKDciMntKWwa"
   },
   "source": [
    "# **II. Analyze Twitter data**"
   ]
  },
  {
   "cell_type": "markdown",
   "metadata": {
    "id": "CPRMxuZHlgMY"
   },
   "source": [
    "## **A. Data Analysis and pre-processing**"
   ]
  },
  {
   "cell_type": "code",
   "execution_count": 39,
   "metadata": {
    "id": "TLH5GCZ4L-YG"
   },
   "outputs": [
    {
     "name": "stderr",
     "output_type": "stream",
     "text": [
      "[nltk_data] Downloading collection 'all'\n",
      "[nltk_data]    | \n",
      "[nltk_data]    | Downloading package abc to\n",
      "[nltk_data]    |     C:\\Users\\madse\\AppData\\Roaming\\nltk_data...\n",
      "[nltk_data]    |   Package abc is already up-to-date!\n",
      "[nltk_data]    | Downloading package alpino to\n",
      "[nltk_data]    |     C:\\Users\\madse\\AppData\\Roaming\\nltk_data...\n",
      "[nltk_data]    |   Package alpino is already up-to-date!\n",
      "[nltk_data]    | Downloading package biocreative_ppi to\n",
      "[nltk_data]    |     C:\\Users\\madse\\AppData\\Roaming\\nltk_data...\n",
      "[nltk_data]    |   Package biocreative_ppi is already up-to-date!\n",
      "[nltk_data]    | Downloading package brown to\n",
      "[nltk_data]    |     C:\\Users\\madse\\AppData\\Roaming\\nltk_data...\n",
      "[nltk_data]    |   Package brown is already up-to-date!\n",
      "[nltk_data]    | Downloading package brown_tei to\n",
      "[nltk_data]    |     C:\\Users\\madse\\AppData\\Roaming\\nltk_data...\n",
      "[nltk_data]    |   Package brown_tei is already up-to-date!\n",
      "[nltk_data]    | Downloading package cess_cat to\n",
      "[nltk_data]    |     C:\\Users\\madse\\AppData\\Roaming\\nltk_data...\n",
      "[nltk_data]    |   Package cess_cat is already up-to-date!\n",
      "[nltk_data]    | Downloading package cess_esp to\n",
      "[nltk_data]    |     C:\\Users\\madse\\AppData\\Roaming\\nltk_data...\n",
      "[nltk_data]    |   Package cess_esp is already up-to-date!\n",
      "[nltk_data]    | Downloading package chat80 to\n",
      "[nltk_data]    |     C:\\Users\\madse\\AppData\\Roaming\\nltk_data...\n",
      "[nltk_data]    |   Package chat80 is already up-to-date!\n",
      "[nltk_data]    | Downloading package city_database to\n",
      "[nltk_data]    |     C:\\Users\\madse\\AppData\\Roaming\\nltk_data...\n",
      "[nltk_data]    |   Package city_database is already up-to-date!\n",
      "[nltk_data]    | Downloading package cmudict to\n",
      "[nltk_data]    |     C:\\Users\\madse\\AppData\\Roaming\\nltk_data...\n",
      "[nltk_data]    |   Package cmudict is already up-to-date!\n",
      "[nltk_data]    | Downloading package comparative_sentences to\n",
      "[nltk_data]    |     C:\\Users\\madse\\AppData\\Roaming\\nltk_data...\n",
      "[nltk_data]    |   Package comparative_sentences is already up-to-\n",
      "[nltk_data]    |       date!\n",
      "[nltk_data]    | Downloading package comtrans to\n",
      "[nltk_data]    |     C:\\Users\\madse\\AppData\\Roaming\\nltk_data...\n",
      "[nltk_data]    |   Package comtrans is already up-to-date!\n",
      "[nltk_data]    | Downloading package conll2000 to\n",
      "[nltk_data]    |     C:\\Users\\madse\\AppData\\Roaming\\nltk_data...\n",
      "[nltk_data]    |   Package conll2000 is already up-to-date!\n",
      "[nltk_data]    | Downloading package conll2002 to\n",
      "[nltk_data]    |     C:\\Users\\madse\\AppData\\Roaming\\nltk_data...\n",
      "[nltk_data]    |   Package conll2002 is already up-to-date!\n",
      "[nltk_data]    | Downloading package conll2007 to\n",
      "[nltk_data]    |     C:\\Users\\madse\\AppData\\Roaming\\nltk_data...\n",
      "[nltk_data]    |   Package conll2007 is already up-to-date!\n",
      "[nltk_data]    | Downloading package crubadan to\n",
      "[nltk_data]    |     C:\\Users\\madse\\AppData\\Roaming\\nltk_data...\n",
      "[nltk_data]    |   Package crubadan is already up-to-date!\n",
      "[nltk_data]    | Downloading package dependency_treebank to\n",
      "[nltk_data]    |     C:\\Users\\madse\\AppData\\Roaming\\nltk_data...\n",
      "[nltk_data]    |   Package dependency_treebank is already up-to-date!\n",
      "[nltk_data]    | Downloading package dolch to\n",
      "[nltk_data]    |     C:\\Users\\madse\\AppData\\Roaming\\nltk_data...\n",
      "[nltk_data]    |   Package dolch is already up-to-date!\n",
      "[nltk_data]    | Downloading package europarl_raw to\n",
      "[nltk_data]    |     C:\\Users\\madse\\AppData\\Roaming\\nltk_data...\n",
      "[nltk_data]    |   Package europarl_raw is already up-to-date!\n",
      "[nltk_data]    | Downloading package floresta to\n",
      "[nltk_data]    |     C:\\Users\\madse\\AppData\\Roaming\\nltk_data...\n",
      "[nltk_data]    |   Package floresta is already up-to-date!\n",
      "[nltk_data]    | Downloading package framenet_v15 to\n",
      "[nltk_data]    |     C:\\Users\\madse\\AppData\\Roaming\\nltk_data...\n",
      "[nltk_data]    |   Package framenet_v15 is already up-to-date!\n",
      "[nltk_data]    | Downloading package framenet_v17 to\n",
      "[nltk_data]    |     C:\\Users\\madse\\AppData\\Roaming\\nltk_data...\n",
      "[nltk_data]    |   Package framenet_v17 is already up-to-date!\n",
      "[nltk_data]    | Downloading package gazetteers to\n",
      "[nltk_data]    |     C:\\Users\\madse\\AppData\\Roaming\\nltk_data...\n",
      "[nltk_data]    |   Package gazetteers is already up-to-date!\n",
      "[nltk_data]    | Downloading package genesis to\n",
      "[nltk_data]    |     C:\\Users\\madse\\AppData\\Roaming\\nltk_data...\n",
      "[nltk_data]    |   Package genesis is already up-to-date!\n",
      "[nltk_data]    | Downloading package gutenberg to\n",
      "[nltk_data]    |     C:\\Users\\madse\\AppData\\Roaming\\nltk_data...\n",
      "[nltk_data]    |   Package gutenberg is already up-to-date!\n",
      "[nltk_data]    | Downloading package ieer to\n",
      "[nltk_data]    |     C:\\Users\\madse\\AppData\\Roaming\\nltk_data...\n",
      "[nltk_data]    |   Package ieer is already up-to-date!\n",
      "[nltk_data]    | Downloading package inaugural to\n",
      "[nltk_data]    |     C:\\Users\\madse\\AppData\\Roaming\\nltk_data...\n",
      "[nltk_data]    |   Package inaugural is already up-to-date!\n",
      "[nltk_data]    | Downloading package indian to\n",
      "[nltk_data]    |     C:\\Users\\madse\\AppData\\Roaming\\nltk_data...\n",
      "[nltk_data]    |   Package indian is already up-to-date!\n",
      "[nltk_data]    | Downloading package jeita to\n",
      "[nltk_data]    |     C:\\Users\\madse\\AppData\\Roaming\\nltk_data...\n",
      "[nltk_data]    |   Package jeita is already up-to-date!\n",
      "[nltk_data]    | Downloading package kimmo to\n",
      "[nltk_data]    |     C:\\Users\\madse\\AppData\\Roaming\\nltk_data...\n",
      "[nltk_data]    |   Package kimmo is already up-to-date!\n",
      "[nltk_data]    | Downloading package knbc to\n",
      "[nltk_data]    |     C:\\Users\\madse\\AppData\\Roaming\\nltk_data...\n",
      "[nltk_data]    |   Package knbc is already up-to-date!\n",
      "[nltk_data]    | Downloading package lin_thesaurus to\n",
      "[nltk_data]    |     C:\\Users\\madse\\AppData\\Roaming\\nltk_data...\n",
      "[nltk_data]    |   Package lin_thesaurus is already up-to-date!\n",
      "[nltk_data]    | Downloading package mac_morpho to\n",
      "[nltk_data]    |     C:\\Users\\madse\\AppData\\Roaming\\nltk_data...\n",
      "[nltk_data]    |   Package mac_morpho is already up-to-date!\n",
      "[nltk_data]    | Downloading package machado to\n",
      "[nltk_data]    |     C:\\Users\\madse\\AppData\\Roaming\\nltk_data...\n",
      "[nltk_data]    |   Package machado is already up-to-date!\n",
      "[nltk_data]    | Downloading package masc_tagged to\n",
      "[nltk_data]    |     C:\\Users\\madse\\AppData\\Roaming\\nltk_data...\n",
      "[nltk_data]    |   Package masc_tagged is already up-to-date!\n",
      "[nltk_data]    | Downloading package moses_sample to\n",
      "[nltk_data]    |     C:\\Users\\madse\\AppData\\Roaming\\nltk_data...\n",
      "[nltk_data]    |   Package moses_sample is already up-to-date!\n",
      "[nltk_data]    | Downloading package movie_reviews to\n",
      "[nltk_data]    |     C:\\Users\\madse\\AppData\\Roaming\\nltk_data...\n",
      "[nltk_data]    |   Package movie_reviews is already up-to-date!\n",
      "[nltk_data]    | Downloading package names to\n",
      "[nltk_data]    |     C:\\Users\\madse\\AppData\\Roaming\\nltk_data...\n",
      "[nltk_data]    |   Package names is already up-to-date!\n",
      "[nltk_data]    | Downloading package nombank.1.0 to\n",
      "[nltk_data]    |     C:\\Users\\madse\\AppData\\Roaming\\nltk_data...\n",
      "[nltk_data]    |   Package nombank.1.0 is already up-to-date!\n",
      "[nltk_data]    | Downloading package nps_chat to\n",
      "[nltk_data]    |     C:\\Users\\madse\\AppData\\Roaming\\nltk_data...\n",
      "[nltk_data]    |   Package nps_chat is already up-to-date!\n",
      "[nltk_data]    | Downloading package omw to\n",
      "[nltk_data]    |     C:\\Users\\madse\\AppData\\Roaming\\nltk_data...\n",
      "[nltk_data]    |   Package omw is already up-to-date!\n",
      "[nltk_data]    | Downloading package opinion_lexicon to\n",
      "[nltk_data]    |     C:\\Users\\madse\\AppData\\Roaming\\nltk_data...\n",
      "[nltk_data]    |   Package opinion_lexicon is already up-to-date!\n",
      "[nltk_data]    | Downloading package paradigms to\n",
      "[nltk_data]    |     C:\\Users\\madse\\AppData\\Roaming\\nltk_data...\n",
      "[nltk_data]    |   Package paradigms is already up-to-date!\n",
      "[nltk_data]    | Downloading package pil to\n",
      "[nltk_data]    |     C:\\Users\\madse\\AppData\\Roaming\\nltk_data...\n",
      "[nltk_data]    |   Package pil is already up-to-date!\n",
      "[nltk_data]    | Downloading package pl196x to\n",
      "[nltk_data]    |     C:\\Users\\madse\\AppData\\Roaming\\nltk_data...\n",
      "[nltk_data]    |   Package pl196x is already up-to-date!\n",
      "[nltk_data]    | Downloading package ppattach to\n",
      "[nltk_data]    |     C:\\Users\\madse\\AppData\\Roaming\\nltk_data...\n",
      "[nltk_data]    |   Package ppattach is already up-to-date!\n",
      "[nltk_data]    | Downloading package problem_reports to\n",
      "[nltk_data]    |     C:\\Users\\madse\\AppData\\Roaming\\nltk_data...\n",
      "[nltk_data]    |   Package problem_reports is already up-to-date!\n",
      "[nltk_data]    | Downloading package propbank to\n",
      "[nltk_data]    |     C:\\Users\\madse\\AppData\\Roaming\\nltk_data...\n",
      "[nltk_data]    |   Package propbank is already up-to-date!\n",
      "[nltk_data]    | Downloading package ptb to\n",
      "[nltk_data]    |     C:\\Users\\madse\\AppData\\Roaming\\nltk_data...\n",
      "[nltk_data]    |   Package ptb is already up-to-date!\n",
      "[nltk_data]    | Downloading package product_reviews_1 to\n",
      "[nltk_data]    |     C:\\Users\\madse\\AppData\\Roaming\\nltk_data...\n",
      "[nltk_data]    |   Package product_reviews_1 is already up-to-date!\n",
      "[nltk_data]    | Downloading package product_reviews_2 to\n",
      "[nltk_data]    |     C:\\Users\\madse\\AppData\\Roaming\\nltk_data...\n",
      "[nltk_data]    |   Package product_reviews_2 is already up-to-date!\n",
      "[nltk_data]    | Downloading package pros_cons to\n",
      "[nltk_data]    |     C:\\Users\\madse\\AppData\\Roaming\\nltk_data...\n",
      "[nltk_data]    |   Package pros_cons is already up-to-date!\n",
      "[nltk_data]    | Downloading package qc to\n",
      "[nltk_data]    |     C:\\Users\\madse\\AppData\\Roaming\\nltk_data...\n",
      "[nltk_data]    |   Package qc is already up-to-date!\n",
      "[nltk_data]    | Downloading package reuters to\n",
      "[nltk_data]    |     C:\\Users\\madse\\AppData\\Roaming\\nltk_data...\n",
      "[nltk_data]    |   Package reuters is already up-to-date!\n",
      "[nltk_data]    | Downloading package rte to\n",
      "[nltk_data]    |     C:\\Users\\madse\\AppData\\Roaming\\nltk_data...\n",
      "[nltk_data]    |   Package rte is already up-to-date!\n",
      "[nltk_data]    | Downloading package semcor to\n",
      "[nltk_data]    |     C:\\Users\\madse\\AppData\\Roaming\\nltk_data...\n",
      "[nltk_data]    |   Package semcor is already up-to-date!\n",
      "[nltk_data]    | Downloading package senseval to\n",
      "[nltk_data]    |     C:\\Users\\madse\\AppData\\Roaming\\nltk_data...\n",
      "[nltk_data]    |   Package senseval is already up-to-date!\n",
      "[nltk_data]    | Downloading package sentiwordnet to\n",
      "[nltk_data]    |     C:\\Users\\madse\\AppData\\Roaming\\nltk_data...\n",
      "[nltk_data]    |   Package sentiwordnet is already up-to-date!\n",
      "[nltk_data]    | Downloading package sentence_polarity to\n",
      "[nltk_data]    |     C:\\Users\\madse\\AppData\\Roaming\\nltk_data...\n",
      "[nltk_data]    |   Package sentence_polarity is already up-to-date!\n",
      "[nltk_data]    | Downloading package shakespeare to\n",
      "[nltk_data]    |     C:\\Users\\madse\\AppData\\Roaming\\nltk_data...\n",
      "[nltk_data]    |   Package shakespeare is already up-to-date!\n",
      "[nltk_data]    | Downloading package sinica_treebank to\n",
      "[nltk_data]    |     C:\\Users\\madse\\AppData\\Roaming\\nltk_data...\n",
      "[nltk_data]    |   Package sinica_treebank is already up-to-date!\n",
      "[nltk_data]    | Downloading package smultron to\n",
      "[nltk_data]    |     C:\\Users\\madse\\AppData\\Roaming\\nltk_data...\n",
      "[nltk_data]    |   Package smultron is already up-to-date!\n",
      "[nltk_data]    | Downloading package state_union to\n",
      "[nltk_data]    |     C:\\Users\\madse\\AppData\\Roaming\\nltk_data...\n",
      "[nltk_data]    |   Package state_union is already up-to-date!\n",
      "[nltk_data]    | Downloading package stopwords to\n",
      "[nltk_data]    |     C:\\Users\\madse\\AppData\\Roaming\\nltk_data...\n",
      "[nltk_data]    |   Package stopwords is already up-to-date!\n",
      "[nltk_data]    | Downloading package subjectivity to\n",
      "[nltk_data]    |     C:\\Users\\madse\\AppData\\Roaming\\nltk_data...\n",
      "[nltk_data]    |   Package subjectivity is already up-to-date!\n",
      "[nltk_data]    | Downloading package swadesh to\n",
      "[nltk_data]    |     C:\\Users\\madse\\AppData\\Roaming\\nltk_data...\n",
      "[nltk_data]    |   Package swadesh is already up-to-date!\n",
      "[nltk_data]    | Downloading package switchboard to\n",
      "[nltk_data]    |     C:\\Users\\madse\\AppData\\Roaming\\nltk_data...\n",
      "[nltk_data]    |   Package switchboard is already up-to-date!\n",
      "[nltk_data]    | Downloading package timit to\n",
      "[nltk_data]    |     C:\\Users\\madse\\AppData\\Roaming\\nltk_data...\n",
      "[nltk_data]    |   Package timit is already up-to-date!\n",
      "[nltk_data]    | Downloading package toolbox to\n",
      "[nltk_data]    |     C:\\Users\\madse\\AppData\\Roaming\\nltk_data...\n",
      "[nltk_data]    |   Package toolbox is already up-to-date!\n",
      "[nltk_data]    | Downloading package treebank to\n",
      "[nltk_data]    |     C:\\Users\\madse\\AppData\\Roaming\\nltk_data...\n",
      "[nltk_data]    |   Package treebank is already up-to-date!\n",
      "[nltk_data]    | Downloading package twitter_samples to\n",
      "[nltk_data]    |     C:\\Users\\madse\\AppData\\Roaming\\nltk_data...\n",
      "[nltk_data]    |   Package twitter_samples is already up-to-date!\n",
      "[nltk_data]    | Downloading package udhr to\n",
      "[nltk_data]    |     C:\\Users\\madse\\AppData\\Roaming\\nltk_data...\n",
      "[nltk_data]    |   Package udhr is already up-to-date!\n",
      "[nltk_data]    | Downloading package udhr2 to\n",
      "[nltk_data]    |     C:\\Users\\madse\\AppData\\Roaming\\nltk_data...\n",
      "[nltk_data]    |   Package udhr2 is already up-to-date!\n",
      "[nltk_data]    | Downloading package unicode_samples to\n",
      "[nltk_data]    |     C:\\Users\\madse\\AppData\\Roaming\\nltk_data...\n",
      "[nltk_data]    |   Package unicode_samples is already up-to-date!\n",
      "[nltk_data]    | Downloading package universal_treebanks_v20 to\n",
      "[nltk_data]    |     C:\\Users\\madse\\AppData\\Roaming\\nltk_data...\n",
      "[nltk_data]    |   Package universal_treebanks_v20 is already up-to-\n",
      "[nltk_data]    |       date!\n",
      "[nltk_data]    | Downloading package verbnet to\n",
      "[nltk_data]    |     C:\\Users\\madse\\AppData\\Roaming\\nltk_data...\n",
      "[nltk_data]    |   Package verbnet is already up-to-date!\n",
      "[nltk_data]    | Downloading package verbnet3 to\n",
      "[nltk_data]    |     C:\\Users\\madse\\AppData\\Roaming\\nltk_data...\n",
      "[nltk_data]    |   Package verbnet3 is already up-to-date!\n",
      "[nltk_data]    | Downloading package webtext to\n",
      "[nltk_data]    |     C:\\Users\\madse\\AppData\\Roaming\\nltk_data...\n",
      "[nltk_data]    |   Package webtext is already up-to-date!\n",
      "[nltk_data]    | Downloading package wordnet to\n",
      "[nltk_data]    |     C:\\Users\\madse\\AppData\\Roaming\\nltk_data...\n",
      "[nltk_data]    |   Package wordnet is already up-to-date!\n",
      "[nltk_data]    | Downloading package wordnet_ic to\n",
      "[nltk_data]    |     C:\\Users\\madse\\AppData\\Roaming\\nltk_data...\n",
      "[nltk_data]    |   Package wordnet_ic is already up-to-date!\n",
      "[nltk_data]    | Downloading package words to\n",
      "[nltk_data]    |     C:\\Users\\madse\\AppData\\Roaming\\nltk_data...\n",
      "[nltk_data]    |   Package words is already up-to-date!\n",
      "[nltk_data]    | Downloading package ycoe to\n",
      "[nltk_data]    |     C:\\Users\\madse\\AppData\\Roaming\\nltk_data...\n",
      "[nltk_data]    |   Package ycoe is already up-to-date!\n",
      "[nltk_data]    | Downloading package rslp to\n",
      "[nltk_data]    |     C:\\Users\\madse\\AppData\\Roaming\\nltk_data...\n",
      "[nltk_data]    |   Package rslp is already up-to-date!\n",
      "[nltk_data]    | Downloading package maxent_treebank_pos_tagger to\n",
      "[nltk_data]    |     C:\\Users\\madse\\AppData\\Roaming\\nltk_data...\n",
      "[nltk_data]    |   Package maxent_treebank_pos_tagger is already up-\n",
      "[nltk_data]    |       to-date!\n",
      "[nltk_data]    | Downloading package universal_tagset to\n",
      "[nltk_data]    |     C:\\Users\\madse\\AppData\\Roaming\\nltk_data...\n",
      "[nltk_data]    |   Package universal_tagset is already up-to-date!\n",
      "[nltk_data]    | Downloading package maxent_ne_chunker to\n",
      "[nltk_data]    |     C:\\Users\\madse\\AppData\\Roaming\\nltk_data...\n",
      "[nltk_data]    |   Package maxent_ne_chunker is already up-to-date!\n",
      "[nltk_data]    | Downloading package punkt to\n",
      "[nltk_data]    |     C:\\Users\\madse\\AppData\\Roaming\\nltk_data...\n",
      "[nltk_data]    |   Package punkt is already up-to-date!\n",
      "[nltk_data]    | Downloading package book_grammars to\n",
      "[nltk_data]    |     C:\\Users\\madse\\AppData\\Roaming\\nltk_data...\n",
      "[nltk_data]    |   Package book_grammars is already up-to-date!\n",
      "[nltk_data]    | Downloading package sample_grammars to\n",
      "[nltk_data]    |     C:\\Users\\madse\\AppData\\Roaming\\nltk_data...\n",
      "[nltk_data]    |   Package sample_grammars is already up-to-date!\n",
      "[nltk_data]    | Downloading package spanish_grammars to\n",
      "[nltk_data]    |     C:\\Users\\madse\\AppData\\Roaming\\nltk_data...\n",
      "[nltk_data]    |   Package spanish_grammars is already up-to-date!\n",
      "[nltk_data]    | Downloading package basque_grammars to\n",
      "[nltk_data]    |     C:\\Users\\madse\\AppData\\Roaming\\nltk_data...\n",
      "[nltk_data]    |   Package basque_grammars is already up-to-date!\n",
      "[nltk_data]    | Downloading package large_grammars to\n",
      "[nltk_data]    |     C:\\Users\\madse\\AppData\\Roaming\\nltk_data...\n",
      "[nltk_data]    |   Package large_grammars is already up-to-date!\n",
      "[nltk_data]    | Downloading package tagsets to\n",
      "[nltk_data]    |     C:\\Users\\madse\\AppData\\Roaming\\nltk_data...\n",
      "[nltk_data]    |   Package tagsets is already up-to-date!\n",
      "[nltk_data]    | Downloading package snowball_data to\n",
      "[nltk_data]    |     C:\\Users\\madse\\AppData\\Roaming\\nltk_data...\n",
      "[nltk_data]    |   Package snowball_data is already up-to-date!\n",
      "[nltk_data]    | Downloading package bllip_wsj_no_aux to\n",
      "[nltk_data]    |     C:\\Users\\madse\\AppData\\Roaming\\nltk_data...\n",
      "[nltk_data]    |   Package bllip_wsj_no_aux is already up-to-date!\n",
      "[nltk_data]    | Downloading package word2vec_sample to\n",
      "[nltk_data]    |     C:\\Users\\madse\\AppData\\Roaming\\nltk_data...\n",
      "[nltk_data]    |   Package word2vec_sample is already up-to-date!\n",
      "[nltk_data]    | Downloading package panlex_swadesh to\n",
      "[nltk_data]    |     C:\\Users\\madse\\AppData\\Roaming\\nltk_data...\n",
      "[nltk_data]    |   Package panlex_swadesh is already up-to-date!\n",
      "[nltk_data]    | Downloading package mte_teip5 to\n",
      "[nltk_data]    |     C:\\Users\\madse\\AppData\\Roaming\\nltk_data...\n",
      "[nltk_data]    |   Package mte_teip5 is already up-to-date!\n",
      "[nltk_data]    | Downloading package averaged_perceptron_tagger to\n",
      "[nltk_data]    |     C:\\Users\\madse\\AppData\\Roaming\\nltk_data...\n",
      "[nltk_data]    |   Package averaged_perceptron_tagger is already up-\n",
      "[nltk_data]    |       to-date!\n",
      "[nltk_data]    | Downloading package averaged_perceptron_tagger_ru to\n",
      "[nltk_data]    |     C:\\Users\\madse\\AppData\\Roaming\\nltk_data...\n",
      "[nltk_data]    |   Package averaged_perceptron_tagger_ru is already\n",
      "[nltk_data]    |       up-to-date!\n",
      "[nltk_data]    | Downloading package perluniprops to\n",
      "[nltk_data]    |     C:\\Users\\madse\\AppData\\Roaming\\nltk_data...\n",
      "[nltk_data]    |   Package perluniprops is already up-to-date!\n",
      "[nltk_data]    | Downloading package nonbreaking_prefixes to\n",
      "[nltk_data]    |     C:\\Users\\madse\\AppData\\Roaming\\nltk_data...\n",
      "[nltk_data]    |   Package nonbreaking_prefixes is already up-to-date!\n",
      "[nltk_data]    | Downloading package vader_lexicon to\n",
      "[nltk_data]    |     C:\\Users\\madse\\AppData\\Roaming\\nltk_data...\n",
      "[nltk_data]    |   Package vader_lexicon is already up-to-date!\n",
      "[nltk_data]    | Downloading package porter_test to\n",
      "[nltk_data]    |     C:\\Users\\madse\\AppData\\Roaming\\nltk_data...\n",
      "[nltk_data]    |   Package porter_test is already up-to-date!\n",
      "[nltk_data]    | Downloading package wmt15_eval to\n",
      "[nltk_data]    |     C:\\Users\\madse\\AppData\\Roaming\\nltk_data...\n",
      "[nltk_data]    |   Package wmt15_eval is already up-to-date!\n",
      "[nltk_data]    | Downloading package mwa_ppdb to\n",
      "[nltk_data]    |     C:\\Users\\madse\\AppData\\Roaming\\nltk_data...\n",
      "[nltk_data]    |   Package mwa_ppdb is already up-to-date!\n",
      "[nltk_data]    | \n",
      "[nltk_data]  Done downloading collection all\n"
     ]
    }
   ],
   "source": [
    "# importing required libraries\n",
    "import spacy\n",
    "import unicodedata\n",
    "import re\n",
    "import nltk\n",
    "from nltk.tokenize.toktok import ToktokTokenizer\n",
    "import en_core_web_md\n",
    "# from contractions import CONTRACTION_MAP\n",
    "import unicodedata\n",
    "nltk.download('all')\n",
    "\n",
    "tokenizer = ToktokTokenizer()\n",
    "stopword_list = nltk.corpus.stopwords.words('english')\n",
    "stopword_list.remove('no')\n",
    "stopword_list.remove('not')\n",
    "nlp = en_core_web_md.load()\n",
    "#nlp = spacy.load('en_core_web_md', parse=True, tag=True, entity=True)\n",
    "\n",
    "pd.set_option('display.max_colwidth', 1000)"
   ]
  },
  {
   "cell_type": "code",
   "execution_count": 40,
   "metadata": {
    "id": "c7y-s7wsLsMG"
   },
   "outputs": [],
   "source": [
    "# Function to clean twitter data\n",
    "import re\n",
    "def remove_accented_chars(text):\n",
    "    text = unicodedata.normalize('NFKD', text).encode('ascii', 'ignore').decode('utf-8', 'ignore')\n",
    "    return text\n",
    "\n",
    "def remove_special_characters(text, remove_digits=False):\n",
    "    pattern = r'[^a-zA-z0-9\\s]' if not remove_digits else r'[^a-zA-z\\s]'\n",
    "    text = re.sub(pattern, '', text)\n",
    "    return text\n",
    "\n",
    "def lemmatize_text(text):\n",
    "    text = nlp(text)\n",
    "    text = ' '.join([word.lemma_ if word.lemma_ != '-PRON-' else word.text for word in text])\n",
    "    return text\n",
    "\n",
    "def remove_stopwords(text, is_lower_case=False):\n",
    "    tokens = tokenizer.tokenize(text)\n",
    "    tokens = [token.strip() for token in tokens]\n",
    "    if is_lower_case:\n",
    "        filtered_tokens = [token for token in tokens if token not in stopword_list]\n",
    "    else:\n",
    "        filtered_tokens = [token for token in tokens if token.lower() not in stopword_list]\n",
    "    filtered_text = ' '.join(filtered_tokens)    \n",
    "    return filtered_text\n",
    "\n",
    "\n",
    "def normalize_corpus(corpus, accented_char_removal=True, text_lower_case=True, \n",
    "                     text_lemmatization=True, special_char_removal=True, \n",
    "                     stopword_removal=True, remove_digits=True):\n",
    "    \n",
    "    doc = corpus\n",
    "    # accented characters removal\n",
    "    if accented_char_removal:\n",
    "      doc = remove_accented_chars(doc)\n",
    "    \n",
    "    # lowercase text\n",
    "    if text_lower_case:\n",
    "        doc = doc.lower()\n",
    "    \n",
    "    doc = re.sub(r'[\\r|\\n|\\r\\n]+', ' ',doc)\n",
    "    \n",
    "    # lemmatize text\n",
    "    if text_lemmatization:\n",
    "      doc = lemmatize_text(doc)\n",
    "    \n",
    "    # remove special characters and\\or digits    \n",
    "    if special_char_removal:\n",
    "        # insert spaces between special characters to isolate them    \n",
    "        special_char_pattern = re.compile(r'([{.(-)!}])')\n",
    "        doc = special_char_pattern.sub(\" \\\\1 \", doc)\n",
    "        doc = remove_special_characters(doc, remove_digits=remove_digits)  \n",
    "    \n",
    "    # remove extra whitespace\n",
    "    doc = re.sub(' +', ' ', doc)\n",
    "    \n",
    "    # remove stopwords\n",
    "    if stopword_removal:\n",
    "        doc = remove_stopwords(doc, is_lower_case=text_lower_case)\n",
    "            \n",
    "        \n",
    "    return doc\n",
    "\n",
    "\n",
    "def clean_tweets(text):\n",
    "  # removing words starting with @ or #\n",
    "  doc = re.sub(r'@[a-zA-Z0-9]+', \"\", text)\n",
    "  doc = re.sub(r'#[a-zA-Z0-9]+', \"\", doc)\n",
    "  doc = re.sub(r'https://t.co/[a-zA-Z0-9]+', '', doc, flags=re.MULTILINE)\n",
    "  doc = re.sub(r'[\\W_]', ' ', doc) # removing underscores\n",
    "  doc = re.sub(r'(http(s:|:)\\/\\/)(www.|WWW.)+([0-9a-z.A-Z-]\\.\\w{2,3})', '', doc, flags=re.MULTILINE)\n",
    "  doc = normalize_corpus(doc, text_lemmatization=False)\n",
    "  return doc"
   ]
  },
  {
   "cell_type": "code",
   "execution_count": 42,
   "metadata": {
    "id": "XkV-9scrJpVI"
   },
   "outputs": [
    {
     "data": {
      "text/html": [
       "<div>\n",
       "<style scoped>\n",
       "    .dataframe tbody tr th:only-of-type {\n",
       "        vertical-align: middle;\n",
       "    }\n",
       "\n",
       "    .dataframe tbody tr th {\n",
       "        vertical-align: top;\n",
       "    }\n",
       "\n",
       "    .dataframe thead th {\n",
       "        text-align: right;\n",
       "    }\n",
       "</style>\n",
       "<table border=\"1\" class=\"dataframe\">\n",
       "  <thead>\n",
       "    <tr style=\"text-align: right;\">\n",
       "      <th></th>\n",
       "      <th>tweet_id</th>\n",
       "      <th>tweet_location</th>\n",
       "      <th>tweet_time</th>\n",
       "      <th>user_id</th>\n",
       "      <th>text</th>\n",
       "    </tr>\n",
       "  </thead>\n",
       "  <tbody>\n",
       "    <tr>\n",
       "      <th>0</th>\n",
       "      <td>1380301062075256838</td>\n",
       "      <td>South Africa</td>\n",
       "      <td>2021-04-08 23:26:32</td>\n",
       "      <td>965302152800407553</td>\n",
       "      <td>The Science of Success \\n\\nhttps://t.co/5uYJg4e1qq\\n\\n#amazon #AmazonQuiz #amazonposition #AmazonPrimeVideo #AmazonUnion #Amazonプライムビデオ #AmazonPrime #AmazonReview #Amazonギフト券 #AmazonWishList #ad\\nhttps://t.co/xLM2OrqHBd</td>\n",
       "    </tr>\n",
       "    <tr>\n",
       "      <th>1</th>\n",
       "      <td>1380268812759666690</td>\n",
       "      <td>Vancouver, BC</td>\n",
       "      <td>2021-04-08 21:18:23</td>\n",
       "      <td>147223992</td>\n",
       "      <td>RT @SuccessAnalytiX: The Science of Success \\n\\nhttps://t.co/5uYJg4e1qq\\n\\n#amazon #AmazonQuiz #amazonposition #AmazonPrimeVideo #AmazonUnion #…</td>\n",
       "    </tr>\n",
       "    <tr>\n",
       "      <th>2</th>\n",
       "      <td>1380267869217431556</td>\n",
       "      <td>South Africa</td>\n",
       "      <td>2021-04-08 21:14:38</td>\n",
       "      <td>965302152800407553</td>\n",
       "      <td>The Science of Success \\n\\nhttps://t.co/5uYJg4e1qq\\n\\n#amazon #AmazonQuiz #amazonposition #AmazonPrimeVideo #AmazonUnion #Amazonプライムビデオ #AmazonPrime #AmazonReview #Amazonギフト券 #AmazonWishList #ac\\nhttps://t.co/xLM2OrqHBd</td>\n",
       "    </tr>\n",
       "    <tr>\n",
       "      <th>3</th>\n",
       "      <td>1380204289918910469</td>\n",
       "      <td>Portland, OR</td>\n",
       "      <td>2021-04-08 17:02:00</td>\n",
       "      <td>2435815254</td>\n",
       "      <td>Curious if coding is right for you, but not sure where to start? Learn the basics of JavaScript in one weekend with our Learn Coding Basics with JavaScript book!\\n\\nPurchase your copy here: https://t.co/VCLfrCGER8\\n\\n#learncoding #learntocode #codingbook #amazonreview #bookreview https://t.co/gpFWhniTE3</td>\n",
       "    </tr>\n",
       "    <tr>\n",
       "      <th>4</th>\n",
       "      <td>1380204088927907844</td>\n",
       "      <td>Salt Lake City, Utah</td>\n",
       "      <td>2021-04-08 17:01:12</td>\n",
       "      <td>1184207030241779712</td>\n",
       "      <td>Curious if coding is right for you, but not sure where to start? Learn the basics of JavaScript in one weekend with our Learn Coding Basics with JavaScript book!\\n\\nPurchase your copy here: https://t.co/tof0RsvrTY\\n\\n#learncoding #learntocode #codingbook #amazonreview #bookreview https://t.co/vuryvSMEAn</td>\n",
       "    </tr>\n",
       "  </tbody>\n",
       "</table>\n",
       "</div>"
      ],
      "text/plain": [
       "              tweet_id        tweet_location           tweet_time  \\\n",
       "0  1380301062075256838          South Africa  2021-04-08 23:26:32   \n",
       "1  1380268812759666690         Vancouver, BC  2021-04-08 21:18:23   \n",
       "2  1380267869217431556          South Africa  2021-04-08 21:14:38   \n",
       "3  1380204289918910469          Portland, OR  2021-04-08 17:02:00   \n",
       "4  1380204088927907844  Salt Lake City, Utah  2021-04-08 17:01:12   \n",
       "\n",
       "               user_id  \\\n",
       "0   965302152800407553   \n",
       "1            147223992   \n",
       "2   965302152800407553   \n",
       "3           2435815254   \n",
       "4  1184207030241779712   \n",
       "\n",
       "                                                                                                                                                                                                                                                                                                               text  \n",
       "0                                                                                       The Science of Success \\n\\nhttps://t.co/5uYJg4e1qq\\n\\n#amazon #AmazonQuiz #amazonposition #AmazonPrimeVideo #AmazonUnion #Amazonプライムビデオ #AmazonPrime #AmazonReview #Amazonギフト券 #AmazonWishList #ad\\nhttps://t.co/xLM2OrqHBd  \n",
       "1                                                                                                                                                                  RT @SuccessAnalytiX: The Science of Success \\n\\nhttps://t.co/5uYJg4e1qq\\n\\n#amazon #AmazonQuiz #amazonposition #AmazonPrimeVideo #AmazonUnion #…  \n",
       "2                                                                                       The Science of Success \\n\\nhttps://t.co/5uYJg4e1qq\\n\\n#amazon #AmazonQuiz #amazonposition #AmazonPrimeVideo #AmazonUnion #Amazonプライムビデオ #AmazonPrime #AmazonReview #Amazonギフト券 #AmazonWishList #ac\\nhttps://t.co/xLM2OrqHBd  \n",
       "3  Curious if coding is right for you, but not sure where to start? Learn the basics of JavaScript in one weekend with our Learn Coding Basics with JavaScript book!\\n\\nPurchase your copy here: https://t.co/VCLfrCGER8\\n\\n#learncoding #learntocode #codingbook #amazonreview #bookreview https://t.co/gpFWhniTE3  \n",
       "4  Curious if coding is right for you, but not sure where to start? Learn the basics of JavaScript in one weekend with our Learn Coding Basics with JavaScript book!\\n\\nPurchase your copy here: https://t.co/tof0RsvrTY\\n\\n#learncoding #learntocode #codingbook #amazonreview #bookreview https://t.co/vuryvSMEAn  "
      ]
     },
     "execution_count": 42,
     "metadata": {},
     "output_type": "execute_result"
    }
   ],
   "source": [
    "# Loading twitter dataset\n",
    "df_tw = pd.read_csv('twitter_amazon.csv')\n",
    "df_tw.head()"
   ]
  },
  {
   "cell_type": "code",
   "execution_count": 43,
   "metadata": {
    "id": "wPuvmjTccClP"
   },
   "outputs": [
    {
     "data": {
      "text/html": [
       "<div>\n",
       "<style scoped>\n",
       "    .dataframe tbody tr th:only-of-type {\n",
       "        vertical-align: middle;\n",
       "    }\n",
       "\n",
       "    .dataframe tbody tr th {\n",
       "        vertical-align: top;\n",
       "    }\n",
       "\n",
       "    .dataframe thead th {\n",
       "        text-align: right;\n",
       "    }\n",
       "</style>\n",
       "<table border=\"1\" class=\"dataframe\">\n",
       "  <thead>\n",
       "    <tr style=\"text-align: right;\">\n",
       "      <th></th>\n",
       "      <th>tweet_location</th>\n",
       "      <th>text</th>\n",
       "    </tr>\n",
       "  </thead>\n",
       "  <tbody>\n",
       "    <tr>\n",
       "      <th>0</th>\n",
       "      <td>South Africa</td>\n",
       "      <td>The Science of Success \\n\\nhttps://t.co/5uYJg4e1qq\\n\\n#amazon #AmazonQuiz #amazonposition #AmazonPrimeVideo #AmazonUnion #Amazonプライムビデオ #AmazonPrime #AmazonReview #Amazonギフト券 #AmazonWishList #ad\\nhttps://t.co/xLM2OrqHBd</td>\n",
       "    </tr>\n",
       "    <tr>\n",
       "      <th>1</th>\n",
       "      <td>Vancouver, BC</td>\n",
       "      <td>RT @SuccessAnalytiX: The Science of Success \\n\\nhttps://t.co/5uYJg4e1qq\\n\\n#amazon #AmazonQuiz #amazonposition #AmazonPrimeVideo #AmazonUnion #…</td>\n",
       "    </tr>\n",
       "    <tr>\n",
       "      <th>2</th>\n",
       "      <td>South Africa</td>\n",
       "      <td>The Science of Success \\n\\nhttps://t.co/5uYJg4e1qq\\n\\n#amazon #AmazonQuiz #amazonposition #AmazonPrimeVideo #AmazonUnion #Amazonプライムビデオ #AmazonPrime #AmazonReview #Amazonギフト券 #AmazonWishList #ac\\nhttps://t.co/xLM2OrqHBd</td>\n",
       "    </tr>\n",
       "    <tr>\n",
       "      <th>3</th>\n",
       "      <td>Portland, OR</td>\n",
       "      <td>Curious if coding is right for you, but not sure where to start? Learn the basics of JavaScript in one weekend with our Learn Coding Basics with JavaScript book!\\n\\nPurchase your copy here: https://t.co/VCLfrCGER8\\n\\n#learncoding #learntocode #codingbook #amazonreview #bookreview https://t.co/gpFWhniTE3</td>\n",
       "    </tr>\n",
       "    <tr>\n",
       "      <th>4</th>\n",
       "      <td>Salt Lake City, Utah</td>\n",
       "      <td>Curious if coding is right for you, but not sure where to start? Learn the basics of JavaScript in one weekend with our Learn Coding Basics with JavaScript book!\\n\\nPurchase your copy here: https://t.co/tof0RsvrTY\\n\\n#learncoding #learntocode #codingbook #amazonreview #bookreview https://t.co/vuryvSMEAn</td>\n",
       "    </tr>\n",
       "    <tr>\n",
       "      <th>...</th>\n",
       "      <td>...</td>\n",
       "      <td>...</td>\n",
       "    </tr>\n",
       "    <tr>\n",
       "      <th>10405</th>\n",
       "      <td>Los Angeles, CA</td>\n",
       "      <td>#NowPlaying 6lack - Switch | Listen Live On https://t.co/l3b9TpMY0l. Stream Our 'New Release of The Week' On #iTunes #Spotify #Amazon: https://t.co/pIPW8NzoiI</td>\n",
       "    </tr>\n",
       "    <tr>\n",
       "      <th>10406</th>\n",
       "      <td>Kotdwara, India</td>\n",
       "      <td>RT @AnilNathani99: @amazon @amazonIN #Amazon #AmazonIndia #AmazonIN #QuizTimeMorningsWithAmazon #AmazonQuiz #AmazonQuizTime #QuizTime #Amaz…</td>\n",
       "    </tr>\n",
       "    <tr>\n",
       "      <th>10407</th>\n",
       "      <td>Kotdwara, India</td>\n",
       "      <td>@amazon @amazonIN #Amazon #AmazonIndia #AmazonIN #QuizTimeMorningsWithAmazon #AmazonQuiz #AmazonQuizTime #QuizTime #AmazonFunzone FUNZONE - Win prizes everyday #Funzone #WinPrizesEveryday #NEWQUIZEVERYDAY #FunzoneQuizTime #DaiyQuizTime #QuizOfTheDay Daily QuizTime 💐💐🌹🌹 https://t.co/LnCzyx3HRy</td>\n",
       "    </tr>\n",
       "    <tr>\n",
       "      <th>10408</th>\n",
       "      <td>Reino Unido</td>\n",
       "      <td>Check out this #Amazon Bestseller - Samsung Galaxy A12 SIM Free Android Smartphone 64 GB, W for £140\\nhttps://t.co/voaG7ac1BG https://t.co/2EG6qfbIAS</td>\n",
       "    </tr>\n",
       "    <tr>\n",
       "      <th>10409</th>\n",
       "      <td>Worldwide</td>\n",
       "      <td>PC Gaming Headset for #PS4 #Xbox one, Noise Cancelling Over Ear Headphones with Mic, Bass Surround, Soft Memory Earmuffs for Laptop Mac #Nintendo #NES Games #Ad #Amazon #UnitedStates #PCGaming #Gaming #PCthusiast\\n🔗 https://t.co/WR4YHg3ERq</td>\n",
       "    </tr>\n",
       "  </tbody>\n",
       "</table>\n",
       "<p>10410 rows × 2 columns</p>\n",
       "</div>"
      ],
      "text/plain": [
       "             tweet_location  \\\n",
       "0              South Africa   \n",
       "1             Vancouver, BC   \n",
       "2              South Africa   \n",
       "3              Portland, OR   \n",
       "4      Salt Lake City, Utah   \n",
       "...                     ...   \n",
       "10405       Los Angeles, CA   \n",
       "10406       Kotdwara, India   \n",
       "10407       Kotdwara, India   \n",
       "10408           Reino Unido   \n",
       "10409             Worldwide   \n",
       "\n",
       "                                                                                                                                                                                                                                                                                                                   text  \n",
       "0                                                                                           The Science of Success \\n\\nhttps://t.co/5uYJg4e1qq\\n\\n#amazon #AmazonQuiz #amazonposition #AmazonPrimeVideo #AmazonUnion #Amazonプライムビデオ #AmazonPrime #AmazonReview #Amazonギフト券 #AmazonWishList #ad\\nhttps://t.co/xLM2OrqHBd  \n",
       "1                                                                                                                                                                      RT @SuccessAnalytiX: The Science of Success \\n\\nhttps://t.co/5uYJg4e1qq\\n\\n#amazon #AmazonQuiz #amazonposition #AmazonPrimeVideo #AmazonUnion #…  \n",
       "2                                                                                           The Science of Success \\n\\nhttps://t.co/5uYJg4e1qq\\n\\n#amazon #AmazonQuiz #amazonposition #AmazonPrimeVideo #AmazonUnion #Amazonプライムビデオ #AmazonPrime #AmazonReview #Amazonギフト券 #AmazonWishList #ac\\nhttps://t.co/xLM2OrqHBd  \n",
       "3      Curious if coding is right for you, but not sure where to start? Learn the basics of JavaScript in one weekend with our Learn Coding Basics with JavaScript book!\\n\\nPurchase your copy here: https://t.co/VCLfrCGER8\\n\\n#learncoding #learntocode #codingbook #amazonreview #bookreview https://t.co/gpFWhniTE3  \n",
       "4      Curious if coding is right for you, but not sure where to start? Learn the basics of JavaScript in one weekend with our Learn Coding Basics with JavaScript book!\\n\\nPurchase your copy here: https://t.co/tof0RsvrTY\\n\\n#learncoding #learntocode #codingbook #amazonreview #bookreview https://t.co/vuryvSMEAn  \n",
       "...                                                                                                                                                                                                                                                                                                                 ...  \n",
       "10405                                                                                                                                                    #NowPlaying 6lack - Switch | Listen Live On https://t.co/l3b9TpMY0l. Stream Our 'New Release of The Week' On #iTunes #Spotify #Amazon: https://t.co/pIPW8NzoiI  \n",
       "10406                                                                                                                                                                      RT @AnilNathani99: @amazon @amazonIN #Amazon #AmazonIndia #AmazonIN #QuizTimeMorningsWithAmazon #AmazonQuiz #AmazonQuizTime #QuizTime #Amaz…  \n",
       "10407             @amazon @amazonIN #Amazon #AmazonIndia #AmazonIN #QuizTimeMorningsWithAmazon #AmazonQuiz #AmazonQuizTime #QuizTime #AmazonFunzone FUNZONE - Win prizes everyday #Funzone #WinPrizesEveryday #NEWQUIZEVERYDAY #FunzoneQuizTime #DaiyQuizTime #QuizOfTheDay Daily QuizTime 💐💐🌹🌹 https://t.co/LnCzyx3HRy  \n",
       "10408                                                                                                                                                             Check out this #Amazon Bestseller - Samsung Galaxy A12 SIM Free Android Smartphone 64 GB, W for £140\\nhttps://t.co/voaG7ac1BG https://t.co/2EG6qfbIAS  \n",
       "10409                                                                   PC Gaming Headset for #PS4 #Xbox one, Noise Cancelling Over Ear Headphones with Mic, Bass Surround, Soft Memory Earmuffs for Laptop Mac #Nintendo #NES Games #Ad #Amazon #UnitedStates #PCGaming #Gaming #PCthusiast\\n🔗 https://t.co/WR4YHg3ERq  \n",
       "\n",
       "[10410 rows x 2 columns]"
      ]
     },
     "execution_count": 43,
     "metadata": {},
     "output_type": "execute_result"
    }
   ],
   "source": [
    "# creating a subset\n",
    "df_text = df_tw.iloc[:,[1, 4]]\n",
    "df_text"
   ]
  },
  {
   "cell_type": "code",
   "execution_count": 44,
   "metadata": {
    "id": "3nNi3-yEiYNg"
   },
   "outputs": [
    {
     "data": {
      "text/html": [
       "<div>\n",
       "<style scoped>\n",
       "    .dataframe tbody tr th:only-of-type {\n",
       "        vertical-align: middle;\n",
       "    }\n",
       "\n",
       "    .dataframe tbody tr th {\n",
       "        vertical-align: top;\n",
       "    }\n",
       "\n",
       "    .dataframe thead th {\n",
       "        text-align: right;\n",
       "    }\n",
       "</style>\n",
       "<table border=\"1\" class=\"dataframe\">\n",
       "  <thead>\n",
       "    <tr style=\"text-align: right;\">\n",
       "      <th></th>\n",
       "      <th>tweet_location</th>\n",
       "      <th>text</th>\n",
       "      <th>cleaned</th>\n",
       "    </tr>\n",
       "  </thead>\n",
       "  <tbody>\n",
       "    <tr>\n",
       "      <th>0</th>\n",
       "      <td>South Africa</td>\n",
       "      <td>The Science of Success \\n\\nhttps://t.co/5uYJg4e1qq\\n\\n#amazon #AmazonQuiz #amazonposition #AmazonPrimeVideo #AmazonUnion #Amazonプライムビデオ #AmazonPrime #AmazonReview #Amazonギフト券 #AmazonWishList #ad\\nhttps://t.co/xLM2OrqHBd</td>\n",
       "      <td>science success</td>\n",
       "    </tr>\n",
       "    <tr>\n",
       "      <th>1</th>\n",
       "      <td>Vancouver, BC</td>\n",
       "      <td>RT @SuccessAnalytiX: The Science of Success \\n\\nhttps://t.co/5uYJg4e1qq\\n\\n#amazon #AmazonQuiz #amazonposition #AmazonPrimeVideo #AmazonUnion #…</td>\n",
       "      <td>rt science success</td>\n",
       "    </tr>\n",
       "    <tr>\n",
       "      <th>2</th>\n",
       "      <td>South Africa</td>\n",
       "      <td>The Science of Success \\n\\nhttps://t.co/5uYJg4e1qq\\n\\n#amazon #AmazonQuiz #amazonposition #AmazonPrimeVideo #AmazonUnion #Amazonプライムビデオ #AmazonPrime #AmazonReview #Amazonギフト券 #AmazonWishList #ac\\nhttps://t.co/xLM2OrqHBd</td>\n",
       "      <td>science success</td>\n",
       "    </tr>\n",
       "    <tr>\n",
       "      <th>3</th>\n",
       "      <td>Portland, OR</td>\n",
       "      <td>Curious if coding is right for you, but not sure where to start? Learn the basics of JavaScript in one weekend with our Learn Coding Basics with JavaScript book!\\n\\nPurchase your copy here: https://t.co/VCLfrCGER8\\n\\n#learncoding #learntocode #codingbook #amazonreview #bookreview https://t.co/gpFWhniTE3</td>\n",
       "      <td>curious coding right not sure start learn basics javascript one weekend learn coding basics javascript book purchase copy</td>\n",
       "    </tr>\n",
       "    <tr>\n",
       "      <th>4</th>\n",
       "      <td>Salt Lake City, Utah</td>\n",
       "      <td>Curious if coding is right for you, but not sure where to start? Learn the basics of JavaScript in one weekend with our Learn Coding Basics with JavaScript book!\\n\\nPurchase your copy here: https://t.co/tof0RsvrTY\\n\\n#learncoding #learntocode #codingbook #amazonreview #bookreview https://t.co/vuryvSMEAn</td>\n",
       "      <td>curious coding right not sure start learn basics javascript one weekend learn coding basics javascript book purchase copy</td>\n",
       "    </tr>\n",
       "    <tr>\n",
       "      <th>...</th>\n",
       "      <td>...</td>\n",
       "      <td>...</td>\n",
       "      <td>...</td>\n",
       "    </tr>\n",
       "    <tr>\n",
       "      <th>10405</th>\n",
       "      <td>Los Angeles, CA</td>\n",
       "      <td>#NowPlaying 6lack - Switch | Listen Live On https://t.co/l3b9TpMY0l. Stream Our 'New Release of The Week' On #iTunes #Spotify #Amazon: https://t.co/pIPW8NzoiI</td>\n",
       "      <td>lack switch listen live stream new release week</td>\n",
       "    </tr>\n",
       "    <tr>\n",
       "      <th>10406</th>\n",
       "      <td>Kotdwara, India</td>\n",
       "      <td>RT @AnilNathani99: @amazon @amazonIN #Amazon #AmazonIndia #AmazonIN #QuizTimeMorningsWithAmazon #AmazonQuiz #AmazonQuizTime #QuizTime #Amaz…</td>\n",
       "      <td>rt</td>\n",
       "    </tr>\n",
       "    <tr>\n",
       "      <th>10407</th>\n",
       "      <td>Kotdwara, India</td>\n",
       "      <td>@amazon @amazonIN #Amazon #AmazonIndia #AmazonIN #QuizTimeMorningsWithAmazon #AmazonQuiz #AmazonQuizTime #QuizTime #AmazonFunzone FUNZONE - Win prizes everyday #Funzone #WinPrizesEveryday #NEWQUIZEVERYDAY #FunzoneQuizTime #DaiyQuizTime #QuizOfTheDay Daily QuizTime 💐💐🌹🌹 https://t.co/LnCzyx3HRy</td>\n",
       "      <td>funzone win prizes everyday daily quiztime</td>\n",
       "    </tr>\n",
       "    <tr>\n",
       "      <th>10408</th>\n",
       "      <td>Reino Unido</td>\n",
       "      <td>Check out this #Amazon Bestseller - Samsung Galaxy A12 SIM Free Android Smartphone 64 GB, W for £140\\nhttps://t.co/voaG7ac1BG https://t.co/2EG6qfbIAS</td>\n",
       "      <td>check bestseller samsung galaxy sim free android smartphone gb w</td>\n",
       "    </tr>\n",
       "    <tr>\n",
       "      <th>10409</th>\n",
       "      <td>Worldwide</td>\n",
       "      <td>PC Gaming Headset for #PS4 #Xbox one, Noise Cancelling Over Ear Headphones with Mic, Bass Surround, Soft Memory Earmuffs for Laptop Mac #Nintendo #NES Games #Ad #Amazon #UnitedStates #PCGaming #Gaming #PCthusiast\\n🔗 https://t.co/WR4YHg3ERq</td>\n",
       "      <td>pc gaming headset one noise cancelling ear headphones mic bass surround soft memory earmuffs laptop mac games</td>\n",
       "    </tr>\n",
       "  </tbody>\n",
       "</table>\n",
       "<p>10410 rows × 3 columns</p>\n",
       "</div>"
      ],
      "text/plain": [
       "             tweet_location  \\\n",
       "0              South Africa   \n",
       "1             Vancouver, BC   \n",
       "2              South Africa   \n",
       "3              Portland, OR   \n",
       "4      Salt Lake City, Utah   \n",
       "...                     ...   \n",
       "10405       Los Angeles, CA   \n",
       "10406       Kotdwara, India   \n",
       "10407       Kotdwara, India   \n",
       "10408           Reino Unido   \n",
       "10409             Worldwide   \n",
       "\n",
       "                                                                                                                                                                                                                                                                                                                   text  \\\n",
       "0                                                                                           The Science of Success \\n\\nhttps://t.co/5uYJg4e1qq\\n\\n#amazon #AmazonQuiz #amazonposition #AmazonPrimeVideo #AmazonUnion #Amazonプライムビデオ #AmazonPrime #AmazonReview #Amazonギフト券 #AmazonWishList #ad\\nhttps://t.co/xLM2OrqHBd   \n",
       "1                                                                                                                                                                      RT @SuccessAnalytiX: The Science of Success \\n\\nhttps://t.co/5uYJg4e1qq\\n\\n#amazon #AmazonQuiz #amazonposition #AmazonPrimeVideo #AmazonUnion #…   \n",
       "2                                                                                           The Science of Success \\n\\nhttps://t.co/5uYJg4e1qq\\n\\n#amazon #AmazonQuiz #amazonposition #AmazonPrimeVideo #AmazonUnion #Amazonプライムビデオ #AmazonPrime #AmazonReview #Amazonギフト券 #AmazonWishList #ac\\nhttps://t.co/xLM2OrqHBd   \n",
       "3      Curious if coding is right for you, but not sure where to start? Learn the basics of JavaScript in one weekend with our Learn Coding Basics with JavaScript book!\\n\\nPurchase your copy here: https://t.co/VCLfrCGER8\\n\\n#learncoding #learntocode #codingbook #amazonreview #bookreview https://t.co/gpFWhniTE3   \n",
       "4      Curious if coding is right for you, but not sure where to start? Learn the basics of JavaScript in one weekend with our Learn Coding Basics with JavaScript book!\\n\\nPurchase your copy here: https://t.co/tof0RsvrTY\\n\\n#learncoding #learntocode #codingbook #amazonreview #bookreview https://t.co/vuryvSMEAn   \n",
       "...                                                                                                                                                                                                                                                                                                                 ...   \n",
       "10405                                                                                                                                                    #NowPlaying 6lack - Switch | Listen Live On https://t.co/l3b9TpMY0l. Stream Our 'New Release of The Week' On #iTunes #Spotify #Amazon: https://t.co/pIPW8NzoiI   \n",
       "10406                                                                                                                                                                      RT @AnilNathani99: @amazon @amazonIN #Amazon #AmazonIndia #AmazonIN #QuizTimeMorningsWithAmazon #AmazonQuiz #AmazonQuizTime #QuizTime #Amaz…   \n",
       "10407             @amazon @amazonIN #Amazon #AmazonIndia #AmazonIN #QuizTimeMorningsWithAmazon #AmazonQuiz #AmazonQuizTime #QuizTime #AmazonFunzone FUNZONE - Win prizes everyday #Funzone #WinPrizesEveryday #NEWQUIZEVERYDAY #FunzoneQuizTime #DaiyQuizTime #QuizOfTheDay Daily QuizTime 💐💐🌹🌹 https://t.co/LnCzyx3HRy   \n",
       "10408                                                                                                                                                             Check out this #Amazon Bestseller - Samsung Galaxy A12 SIM Free Android Smartphone 64 GB, W for £140\\nhttps://t.co/voaG7ac1BG https://t.co/2EG6qfbIAS   \n",
       "10409                                                                   PC Gaming Headset for #PS4 #Xbox one, Noise Cancelling Over Ear Headphones with Mic, Bass Surround, Soft Memory Earmuffs for Laptop Mac #Nintendo #NES Games #Ad #Amazon #UnitedStates #PCGaming #Gaming #PCthusiast\\n🔗 https://t.co/WR4YHg3ERq   \n",
       "\n",
       "                                                                                                                         cleaned  \n",
       "0                                                                                                                science success  \n",
       "1                                                                                                             rt science success  \n",
       "2                                                                                                                science success  \n",
       "3      curious coding right not sure start learn basics javascript one weekend learn coding basics javascript book purchase copy  \n",
       "4      curious coding right not sure start learn basics javascript one weekend learn coding basics javascript book purchase copy  \n",
       "...                                                                                                                          ...  \n",
       "10405                                                                            lack switch listen live stream new release week  \n",
       "10406                                                                                                                         rt  \n",
       "10407                                                                                 funzone win prizes everyday daily quiztime  \n",
       "10408                                                           check bestseller samsung galaxy sim free android smartphone gb w  \n",
       "10409              pc gaming headset one noise cancelling ear headphones mic bass surround soft memory earmuffs laptop mac games  \n",
       "\n",
       "[10410 rows x 3 columns]"
      ]
     },
     "execution_count": 44,
     "metadata": {},
     "output_type": "execute_result"
    }
   ],
   "source": [
    "# Cleaning the text\n",
    "df_text['cleaned'] = df_text['text'].apply(lambda x: clean_tweets(x))\n",
    "df_text"
   ]
  },
  {
   "cell_type": "code",
   "execution_count": 45,
   "metadata": {
    "id": "yuW4p694iOcu"
   },
   "outputs": [
    {
     "data": {
      "text/html": [
       "<div>\n",
       "<style scoped>\n",
       "    .dataframe tbody tr th:only-of-type {\n",
       "        vertical-align: middle;\n",
       "    }\n",
       "\n",
       "    .dataframe tbody tr th {\n",
       "        vertical-align: top;\n",
       "    }\n",
       "\n",
       "    .dataframe thead th {\n",
       "        text-align: right;\n",
       "    }\n",
       "</style>\n",
       "<table border=\"1\" class=\"dataframe\">\n",
       "  <thead>\n",
       "    <tr style=\"text-align: right;\">\n",
       "      <th></th>\n",
       "      <th>tweet_location</th>\n",
       "      <th>text</th>\n",
       "      <th>cleaned</th>\n",
       "      <th>count</th>\n",
       "    </tr>\n",
       "  </thead>\n",
       "  <tbody>\n",
       "    <tr>\n",
       "      <th>0</th>\n",
       "      <td>South Africa</td>\n",
       "      <td>The Science of Success \\n\\nhttps://t.co/5uYJg4e1qq\\n\\n#amazon #AmazonQuiz #amazonposition #AmazonPrimeVideo #AmazonUnion #Amazonプライムビデオ #AmazonPrime #AmazonReview #Amazonギフト券 #AmazonWishList #ad\\nhttps://t.co/xLM2OrqHBd</td>\n",
       "      <td>science success</td>\n",
       "      <td>2</td>\n",
       "    </tr>\n",
       "    <tr>\n",
       "      <th>1</th>\n",
       "      <td>Vancouver, BC</td>\n",
       "      <td>RT @SuccessAnalytiX: The Science of Success \\n\\nhttps://t.co/5uYJg4e1qq\\n\\n#amazon #AmazonQuiz #amazonposition #AmazonPrimeVideo #AmazonUnion #…</td>\n",
       "      <td>rt science success</td>\n",
       "      <td>3</td>\n",
       "    </tr>\n",
       "    <tr>\n",
       "      <th>2</th>\n",
       "      <td>South Africa</td>\n",
       "      <td>The Science of Success \\n\\nhttps://t.co/5uYJg4e1qq\\n\\n#amazon #AmazonQuiz #amazonposition #AmazonPrimeVideo #AmazonUnion #Amazonプライムビデオ #AmazonPrime #AmazonReview #Amazonギフト券 #AmazonWishList #ac\\nhttps://t.co/xLM2OrqHBd</td>\n",
       "      <td>science success</td>\n",
       "      <td>2</td>\n",
       "    </tr>\n",
       "    <tr>\n",
       "      <th>3</th>\n",
       "      <td>Portland, OR</td>\n",
       "      <td>Curious if coding is right for you, but not sure where to start? Learn the basics of JavaScript in one weekend with our Learn Coding Basics with JavaScript book!\\n\\nPurchase your copy here: https://t.co/VCLfrCGER8\\n\\n#learncoding #learntocode #codingbook #amazonreview #bookreview https://t.co/gpFWhniTE3</td>\n",
       "      <td>curious coding right not sure start learn basics javascript one weekend learn coding basics javascript book purchase copy</td>\n",
       "      <td>18</td>\n",
       "    </tr>\n",
       "    <tr>\n",
       "      <th>4</th>\n",
       "      <td>Salt Lake City, Utah</td>\n",
       "      <td>Curious if coding is right for you, but not sure where to start? Learn the basics of JavaScript in one weekend with our Learn Coding Basics with JavaScript book!\\n\\nPurchase your copy here: https://t.co/tof0RsvrTY\\n\\n#learncoding #learntocode #codingbook #amazonreview #bookreview https://t.co/vuryvSMEAn</td>\n",
       "      <td>curious coding right not sure start learn basics javascript one weekend learn coding basics javascript book purchase copy</td>\n",
       "      <td>18</td>\n",
       "    </tr>\n",
       "    <tr>\n",
       "      <th>...</th>\n",
       "      <td>...</td>\n",
       "      <td>...</td>\n",
       "      <td>...</td>\n",
       "      <td>...</td>\n",
       "    </tr>\n",
       "    <tr>\n",
       "      <th>10405</th>\n",
       "      <td>Los Angeles, CA</td>\n",
       "      <td>#NowPlaying 6lack - Switch | Listen Live On https://t.co/l3b9TpMY0l. Stream Our 'New Release of The Week' On #iTunes #Spotify #Amazon: https://t.co/pIPW8NzoiI</td>\n",
       "      <td>lack switch listen live stream new release week</td>\n",
       "      <td>8</td>\n",
       "    </tr>\n",
       "    <tr>\n",
       "      <th>10406</th>\n",
       "      <td>Kotdwara, India</td>\n",
       "      <td>RT @AnilNathani99: @amazon @amazonIN #Amazon #AmazonIndia #AmazonIN #QuizTimeMorningsWithAmazon #AmazonQuiz #AmazonQuizTime #QuizTime #Amaz…</td>\n",
       "      <td>rt</td>\n",
       "      <td>1</td>\n",
       "    </tr>\n",
       "    <tr>\n",
       "      <th>10407</th>\n",
       "      <td>Kotdwara, India</td>\n",
       "      <td>@amazon @amazonIN #Amazon #AmazonIndia #AmazonIN #QuizTimeMorningsWithAmazon #AmazonQuiz #AmazonQuizTime #QuizTime #AmazonFunzone FUNZONE - Win prizes everyday #Funzone #WinPrizesEveryday #NEWQUIZEVERYDAY #FunzoneQuizTime #DaiyQuizTime #QuizOfTheDay Daily QuizTime 💐💐🌹🌹 https://t.co/LnCzyx3HRy</td>\n",
       "      <td>funzone win prizes everyday daily quiztime</td>\n",
       "      <td>6</td>\n",
       "    </tr>\n",
       "    <tr>\n",
       "      <th>10408</th>\n",
       "      <td>Reino Unido</td>\n",
       "      <td>Check out this #Amazon Bestseller - Samsung Galaxy A12 SIM Free Android Smartphone 64 GB, W for £140\\nhttps://t.co/voaG7ac1BG https://t.co/2EG6qfbIAS</td>\n",
       "      <td>check bestseller samsung galaxy sim free android smartphone gb w</td>\n",
       "      <td>10</td>\n",
       "    </tr>\n",
       "    <tr>\n",
       "      <th>10409</th>\n",
       "      <td>Worldwide</td>\n",
       "      <td>PC Gaming Headset for #PS4 #Xbox one, Noise Cancelling Over Ear Headphones with Mic, Bass Surround, Soft Memory Earmuffs for Laptop Mac #Nintendo #NES Games #Ad #Amazon #UnitedStates #PCGaming #Gaming #PCthusiast\\n🔗 https://t.co/WR4YHg3ERq</td>\n",
       "      <td>pc gaming headset one noise cancelling ear headphones mic bass surround soft memory earmuffs laptop mac games</td>\n",
       "      <td>17</td>\n",
       "    </tr>\n",
       "  </tbody>\n",
       "</table>\n",
       "<p>10410 rows × 4 columns</p>\n",
       "</div>"
      ],
      "text/plain": [
       "             tweet_location  \\\n",
       "0              South Africa   \n",
       "1             Vancouver, BC   \n",
       "2              South Africa   \n",
       "3              Portland, OR   \n",
       "4      Salt Lake City, Utah   \n",
       "...                     ...   \n",
       "10405       Los Angeles, CA   \n",
       "10406       Kotdwara, India   \n",
       "10407       Kotdwara, India   \n",
       "10408           Reino Unido   \n",
       "10409             Worldwide   \n",
       "\n",
       "                                                                                                                                                                                                                                                                                                                   text  \\\n",
       "0                                                                                           The Science of Success \\n\\nhttps://t.co/5uYJg4e1qq\\n\\n#amazon #AmazonQuiz #amazonposition #AmazonPrimeVideo #AmazonUnion #Amazonプライムビデオ #AmazonPrime #AmazonReview #Amazonギフト券 #AmazonWishList #ad\\nhttps://t.co/xLM2OrqHBd   \n",
       "1                                                                                                                                                                      RT @SuccessAnalytiX: The Science of Success \\n\\nhttps://t.co/5uYJg4e1qq\\n\\n#amazon #AmazonQuiz #amazonposition #AmazonPrimeVideo #AmazonUnion #…   \n",
       "2                                                                                           The Science of Success \\n\\nhttps://t.co/5uYJg4e1qq\\n\\n#amazon #AmazonQuiz #amazonposition #AmazonPrimeVideo #AmazonUnion #Amazonプライムビデオ #AmazonPrime #AmazonReview #Amazonギフト券 #AmazonWishList #ac\\nhttps://t.co/xLM2OrqHBd   \n",
       "3      Curious if coding is right for you, but not sure where to start? Learn the basics of JavaScript in one weekend with our Learn Coding Basics with JavaScript book!\\n\\nPurchase your copy here: https://t.co/VCLfrCGER8\\n\\n#learncoding #learntocode #codingbook #amazonreview #bookreview https://t.co/gpFWhniTE3   \n",
       "4      Curious if coding is right for you, but not sure where to start? Learn the basics of JavaScript in one weekend with our Learn Coding Basics with JavaScript book!\\n\\nPurchase your copy here: https://t.co/tof0RsvrTY\\n\\n#learncoding #learntocode #codingbook #amazonreview #bookreview https://t.co/vuryvSMEAn   \n",
       "...                                                                                                                                                                                                                                                                                                                 ...   \n",
       "10405                                                                                                                                                    #NowPlaying 6lack - Switch | Listen Live On https://t.co/l3b9TpMY0l. Stream Our 'New Release of The Week' On #iTunes #Spotify #Amazon: https://t.co/pIPW8NzoiI   \n",
       "10406                                                                                                                                                                      RT @AnilNathani99: @amazon @amazonIN #Amazon #AmazonIndia #AmazonIN #QuizTimeMorningsWithAmazon #AmazonQuiz #AmazonQuizTime #QuizTime #Amaz…   \n",
       "10407             @amazon @amazonIN #Amazon #AmazonIndia #AmazonIN #QuizTimeMorningsWithAmazon #AmazonQuiz #AmazonQuizTime #QuizTime #AmazonFunzone FUNZONE - Win prizes everyday #Funzone #WinPrizesEveryday #NEWQUIZEVERYDAY #FunzoneQuizTime #DaiyQuizTime #QuizOfTheDay Daily QuizTime 💐💐🌹🌹 https://t.co/LnCzyx3HRy   \n",
       "10408                                                                                                                                                             Check out this #Amazon Bestseller - Samsung Galaxy A12 SIM Free Android Smartphone 64 GB, W for £140\\nhttps://t.co/voaG7ac1BG https://t.co/2EG6qfbIAS   \n",
       "10409                                                                   PC Gaming Headset for #PS4 #Xbox one, Noise Cancelling Over Ear Headphones with Mic, Bass Surround, Soft Memory Earmuffs for Laptop Mac #Nintendo #NES Games #Ad #Amazon #UnitedStates #PCGaming #Gaming #PCthusiast\\n🔗 https://t.co/WR4YHg3ERq   \n",
       "\n",
       "                                                                                                                         cleaned  \\\n",
       "0                                                                                                                science success   \n",
       "1                                                                                                             rt science success   \n",
       "2                                                                                                                science success   \n",
       "3      curious coding right not sure start learn basics javascript one weekend learn coding basics javascript book purchase copy   \n",
       "4      curious coding right not sure start learn basics javascript one weekend learn coding basics javascript book purchase copy   \n",
       "...                                                                                                                          ...   \n",
       "10405                                                                            lack switch listen live stream new release week   \n",
       "10406                                                                                                                         rt   \n",
       "10407                                                                                 funzone win prizes everyday daily quiztime   \n",
       "10408                                                           check bestseller samsung galaxy sim free android smartphone gb w   \n",
       "10409              pc gaming headset one noise cancelling ear headphones mic bass surround soft memory earmuffs laptop mac games   \n",
       "\n",
       "       count  \n",
       "0          2  \n",
       "1          3  \n",
       "2          2  \n",
       "3         18  \n",
       "4         18  \n",
       "...      ...  \n",
       "10405      8  \n",
       "10406      1  \n",
       "10407      6  \n",
       "10408     10  \n",
       "10409     17  \n",
       "\n",
       "[10410 rows x 4 columns]"
      ]
     },
     "execution_count": 45,
     "metadata": {},
     "output_type": "execute_result"
    }
   ],
   "source": [
    "# Counting the cleaned sentences length\n",
    "def count_len(text):\n",
    "  count = len(text.split())\n",
    "  return int(count)\n",
    "\n",
    "df_text['count'] = df_text['cleaned'].apply(lambda x: count_len(x))\n",
    "df_text"
   ]
  },
  {
   "cell_type": "code",
   "execution_count": 46,
   "metadata": {
    "id": "fVAYA7Hdl0dO"
   },
   "outputs": [
    {
     "data": {
      "text/html": [
       "<div>\n",
       "<style scoped>\n",
       "    .dataframe tbody tr th:only-of-type {\n",
       "        vertical-align: middle;\n",
       "    }\n",
       "\n",
       "    .dataframe tbody tr th {\n",
       "        vertical-align: top;\n",
       "    }\n",
       "\n",
       "    .dataframe thead th {\n",
       "        text-align: right;\n",
       "    }\n",
       "</style>\n",
       "<table border=\"1\" class=\"dataframe\">\n",
       "  <thead>\n",
       "    <tr style=\"text-align: right;\">\n",
       "      <th></th>\n",
       "      <th>tweet_location</th>\n",
       "      <th>text</th>\n",
       "      <th>cleaned</th>\n",
       "      <th>count</th>\n",
       "    </tr>\n",
       "  </thead>\n",
       "  <tbody>\n",
       "    <tr>\n",
       "      <th>0</th>\n",
       "      <td>Portland, OR</td>\n",
       "      <td>Curious if coding is right for you, but not sure where to start? Learn the basics of JavaScript in one weekend with our Learn Coding Basics with JavaScript book!\\n\\nPurchase your copy here: https://t.co/VCLfrCGER8\\n\\n#learncoding #learntocode #codingbook #amazonreview #bookreview https://t.co/gpFWhniTE3</td>\n",
       "      <td>curious coding right not sure start learn basics javascript one weekend learn coding basics javascript book purchase copy</td>\n",
       "      <td>18</td>\n",
       "    </tr>\n",
       "    <tr>\n",
       "      <th>1</th>\n",
       "      <td>Salt Lake City, Utah</td>\n",
       "      <td>Curious if coding is right for you, but not sure where to start? Learn the basics of JavaScript in one weekend with our Learn Coding Basics with JavaScript book!\\n\\nPurchase your copy here: https://t.co/tof0RsvrTY\\n\\n#learncoding #learntocode #codingbook #amazonreview #bookreview https://t.co/vuryvSMEAn</td>\n",
       "      <td>curious coding right not sure start learn basics javascript one weekend learn coding basics javascript book purchase copy</td>\n",
       "      <td>18</td>\n",
       "    </tr>\n",
       "    <tr>\n",
       "      <th>2</th>\n",
       "      <td>New Jersey</td>\n",
       "      <td>Whenever I see the @amazon commercial about all the amazing things they’ve done for us, 🙄 I ask aloud, “Then why do I pay more taxes?!” 😡 #AmazonReview https://t.co/WxJvht7Ifl</td>\n",
       "      <td>whenever see commercial amazing things done us ask aloud pay taxes</td>\n",
       "      <td>11</td>\n",
       "    </tr>\n",
       "    <tr>\n",
       "      <th>3</th>\n",
       "      <td>Doha | New Delhi</td>\n",
       "      <td>RT @shaili_shail: @AmazonHelp @ShieldVoC @amazonIN Can someone urgently look into this as there seems to some fraud. Portal says sorry item…</td>\n",
       "      <td>rt shail someone urgently look seems fraud portal says sorry item</td>\n",
       "      <td>11</td>\n",
       "    </tr>\n",
       "    <tr>\n",
       "      <th>4</th>\n",
       "      <td>Doha | New Delhi</td>\n",
       "      <td>@AmazonHelp @ShieldVoC @amazonIN Can someone urgently look into this as there seems to some fraud. Portal says sorry item running late and you guys are also seeking my feedback on delivery.\\n\\n@JagoGrahakJago_ @JagoGrahakJagoo @ConsumersAffair @ConsumrConxion\\n@JeffBezos #AmazonReview #amazondeals</td>\n",
       "      <td>someone urgently look seems fraud portal says sorry item running late guys also seeking feedback delivery</td>\n",
       "      <td>16</td>\n",
       "    </tr>\n",
       "    <tr>\n",
       "      <th>...</th>\n",
       "      <td>...</td>\n",
       "      <td>...</td>\n",
       "      <td>...</td>\n",
       "      <td>...</td>\n",
       "    </tr>\n",
       "    <tr>\n",
       "      <th>9001</th>\n",
       "      <td>🇨🇦Canada🇨🇦</td>\n",
       "      <td>💚🧵SEWING KIT FOR ONLY $17.97 - AMAZON REVIEW 🧵💚If you enjoyed this #review, please #like &amp;amp; #subscribe to my #youtubechannel.\\n\\nhttps://t.co/XBCaRvEvqx\\n\\n#amazon #amazonreview #sewing #reviews #howto #blog #blogging #DIY #sewingproject #makersgonnamake #blogger #sewersgonnasew</td>\n",
       "      <td>sewing kit amazon review enjoyed please amp</td>\n",
       "      <td>7</td>\n",
       "    </tr>\n",
       "    <tr>\n",
       "      <th>9002</th>\n",
       "      <td>Los Angeles, CA</td>\n",
       "      <td>#NowPlaying 6lack - Switch | Listen Live On https://t.co/l3b9TpMY0l. Stream Our 'New Release of The Week' On #iTunes #Spotify #Amazon: https://t.co/pIPW8NzoiI</td>\n",
       "      <td>lack switch listen live stream new release week</td>\n",
       "      <td>8</td>\n",
       "    </tr>\n",
       "    <tr>\n",
       "      <th>9003</th>\n",
       "      <td>Kotdwara, India</td>\n",
       "      <td>@amazon @amazonIN #Amazon #AmazonIndia #AmazonIN #QuizTimeMorningsWithAmazon #AmazonQuiz #AmazonQuizTime #QuizTime #AmazonFunzone FUNZONE - Win prizes everyday #Funzone #WinPrizesEveryday #NEWQUIZEVERYDAY #FunzoneQuizTime #DaiyQuizTime #QuizOfTheDay Daily QuizTime 💐💐🌹🌹 https://t.co/LnCzyx3HRy</td>\n",
       "      <td>funzone win prizes everyday daily quiztime</td>\n",
       "      <td>6</td>\n",
       "    </tr>\n",
       "    <tr>\n",
       "      <th>9004</th>\n",
       "      <td>Reino Unido</td>\n",
       "      <td>Check out this #Amazon Bestseller - Samsung Galaxy A12 SIM Free Android Smartphone 64 GB, W for £140\\nhttps://t.co/voaG7ac1BG https://t.co/2EG6qfbIAS</td>\n",
       "      <td>check bestseller samsung galaxy sim free android smartphone gb w</td>\n",
       "      <td>10</td>\n",
       "    </tr>\n",
       "    <tr>\n",
       "      <th>9005</th>\n",
       "      <td>Worldwide</td>\n",
       "      <td>PC Gaming Headset for #PS4 #Xbox one, Noise Cancelling Over Ear Headphones with Mic, Bass Surround, Soft Memory Earmuffs for Laptop Mac #Nintendo #NES Games #Ad #Amazon #UnitedStates #PCGaming #Gaming #PCthusiast\\n🔗 https://t.co/WR4YHg3ERq</td>\n",
       "      <td>pc gaming headset one noise cancelling ear headphones mic bass surround soft memory earmuffs laptop mac games</td>\n",
       "      <td>17</td>\n",
       "    </tr>\n",
       "  </tbody>\n",
       "</table>\n",
       "<p>9006 rows × 4 columns</p>\n",
       "</div>"
      ],
      "text/plain": [
       "            tweet_location  \\\n",
       "0             Portland, OR   \n",
       "1     Salt Lake City, Utah   \n",
       "2               New Jersey   \n",
       "3         Doha | New Delhi   \n",
       "4         Doha | New Delhi   \n",
       "...                    ...   \n",
       "9001            🇨🇦Canada🇨🇦   \n",
       "9002       Los Angeles, CA   \n",
       "9003       Kotdwara, India   \n",
       "9004           Reino Unido   \n",
       "9005             Worldwide   \n",
       "\n",
       "                                                                                                                                                                                                                                                                                                                  text  \\\n",
       "0     Curious if coding is right for you, but not sure where to start? Learn the basics of JavaScript in one weekend with our Learn Coding Basics with JavaScript book!\\n\\nPurchase your copy here: https://t.co/VCLfrCGER8\\n\\n#learncoding #learntocode #codingbook #amazonreview #bookreview https://t.co/gpFWhniTE3   \n",
       "1     Curious if coding is right for you, but not sure where to start? Learn the basics of JavaScript in one weekend with our Learn Coding Basics with JavaScript book!\\n\\nPurchase your copy here: https://t.co/tof0RsvrTY\\n\\n#learncoding #learntocode #codingbook #amazonreview #bookreview https://t.co/vuryvSMEAn   \n",
       "2                                                                                                                                      Whenever I see the @amazon commercial about all the amazing things they’ve done for us, 🙄 I ask aloud, “Then why do I pay more taxes?!” 😡 #AmazonReview https://t.co/WxJvht7Ifl   \n",
       "3                                                                                                                                                                         RT @shaili_shail: @AmazonHelp @ShieldVoC @amazonIN Can someone urgently look into this as there seems to some fraud. Portal says sorry item…   \n",
       "4           @AmazonHelp @ShieldVoC @amazonIN Can someone urgently look into this as there seems to some fraud. Portal says sorry item running late and you guys are also seeking my feedback on delivery.\\n\\n@JagoGrahakJago_ @JagoGrahakJagoo @ConsumersAffair @ConsumrConxion\\n@JeffBezos #AmazonReview #amazondeals   \n",
       "...                                                                                                                                                                                                                                                                                                                ...   \n",
       "9001                        💚🧵SEWING KIT FOR ONLY $17.97 - AMAZON REVIEW 🧵💚If you enjoyed this #review, please #like &amp; #subscribe to my #youtubechannel.\\n\\nhttps://t.co/XBCaRvEvqx\\n\\n#amazon #amazonreview #sewing #reviews #howto #blog #blogging #DIY #sewingproject #makersgonnamake #blogger #sewersgonnasew   \n",
       "9002                                                                                                                                                    #NowPlaying 6lack - Switch | Listen Live On https://t.co/l3b9TpMY0l. Stream Our 'New Release of The Week' On #iTunes #Spotify #Amazon: https://t.co/pIPW8NzoiI   \n",
       "9003             @amazon @amazonIN #Amazon #AmazonIndia #AmazonIN #QuizTimeMorningsWithAmazon #AmazonQuiz #AmazonQuizTime #QuizTime #AmazonFunzone FUNZONE - Win prizes everyday #Funzone #WinPrizesEveryday #NEWQUIZEVERYDAY #FunzoneQuizTime #DaiyQuizTime #QuizOfTheDay Daily QuizTime 💐💐🌹🌹 https://t.co/LnCzyx3HRy   \n",
       "9004                                                                                                                                                             Check out this #Amazon Bestseller - Samsung Galaxy A12 SIM Free Android Smartphone 64 GB, W for £140\\nhttps://t.co/voaG7ac1BG https://t.co/2EG6qfbIAS   \n",
       "9005                                                                   PC Gaming Headset for #PS4 #Xbox one, Noise Cancelling Over Ear Headphones with Mic, Bass Surround, Soft Memory Earmuffs for Laptop Mac #Nintendo #NES Games #Ad #Amazon #UnitedStates #PCGaming #Gaming #PCthusiast\\n🔗 https://t.co/WR4YHg3ERq   \n",
       "\n",
       "                                                                                                                        cleaned  \\\n",
       "0     curious coding right not sure start learn basics javascript one weekend learn coding basics javascript book purchase copy   \n",
       "1     curious coding right not sure start learn basics javascript one weekend learn coding basics javascript book purchase copy   \n",
       "2                                                            whenever see commercial amazing things done us ask aloud pay taxes   \n",
       "3                                                             rt shail someone urgently look seems fraud portal says sorry item   \n",
       "4                     someone urgently look seems fraud portal says sorry item running late guys also seeking feedback delivery   \n",
       "...                                                                                                                         ...   \n",
       "9001                                                                                sewing kit amazon review enjoyed please amp   \n",
       "9002                                                                            lack switch listen live stream new release week   \n",
       "9003                                                                                 funzone win prizes everyday daily quiztime   \n",
       "9004                                                           check bestseller samsung galaxy sim free android smartphone gb w   \n",
       "9005              pc gaming headset one noise cancelling ear headphones mic bass surround soft memory earmuffs laptop mac games   \n",
       "\n",
       "      count  \n",
       "0        18  \n",
       "1        18  \n",
       "2        11  \n",
       "3        11  \n",
       "4        16  \n",
       "...     ...  \n",
       "9001      7  \n",
       "9002      8  \n",
       "9003      6  \n",
       "9004     10  \n",
       "9005     17  \n",
       "\n",
       "[9006 rows x 4 columns]"
      ]
     },
     "execution_count": 46,
     "metadata": {},
     "output_type": "execute_result"
    }
   ],
   "source": [
    "# Retrieving twitters with len higher than 5\n",
    "df_text = df_text[df_text['count']>=5]\n",
    "\n",
    "# reseting index\n",
    "df_text.reset_index(inplace=True)\n",
    "del df_text['index']\n",
    "df_text"
   ]
  },
  {
   "cell_type": "markdown",
   "metadata": {
    "id": "8s6xNTEal06L"
   },
   "source": [
    "## **B. Sentiment Analysis**"
   ]
  },
  {
   "cell_type": "code",
   "execution_count": 52,
   "metadata": {
    "id": "b6jSlky0Zv55"
   },
   "outputs": [],
   "source": [
    "# Creating functions to read cleaned text and predict \n",
    "# them if they're positive or negative with the 3-highest-acuraccy models\n",
    "\n",
    "def nb_predict(text):\n",
    "  vect = reviews_vector.transform([text])\n",
    "  text_tfidf = reviews_tfidf.transform(vect)\n",
    "  text_tfidf = scaler.fit_transform(text_tfidf)\n",
    "  pred = nb.predict(text_tfidf)[0]\n",
    "  return pred\n",
    "\n",
    "def lr_predict(text):\n",
    "  vect = reviews_vector.transform([text])\n",
    "  text_tfidf = reviews_tfidf.transform(vect)\n",
    "  text_tfidf = scaler.fit_transform(text_tfidf)\n",
    "  pred = lr.predict(text_tfidf)[0]\n",
    "  return pred\n",
    "\n",
    "def rf_predict(text):\n",
    "  vect = reviews_vector.transform([text])\n",
    "  text_tfidf = reviews_tfidf.transform(vect)\n",
    "  text_tfidf = scaler.fit_transform(text_tfidf)\n",
    "  pred = rf.predict(text_tfidf)[0]\n",
    "  return pred\n",
    "\n",
    "def svm_predict(text):\n",
    "  vect = reviews_vector.transform([text])\n",
    "  text_tfidf = reviews_tfidf.transform(vect)\n",
    "  text_tfidf = scaler.fit_transform(text_tfidf)\n",
    "  pred = svm.predict(text_tfidf)[0]\n",
    "  return pred\n",
    "\n",
    "# Applying functions \n",
    "df_text['naive_bayes'] = df_text['cleaned'].apply(lambda x: nb_predict(x))\n",
    "df_text['log_reg'] = df_text['cleaned'].apply(lambda x: lr_predict(x))\n",
    "df_text['r_forest'] = df_text['cleaned'].apply(lambda x: rf_predict(x))\n",
    "df_text['svm'] = df_text['cleaned'].apply(lambda x: svm_predict(x))"
   ]
  },
  {
   "cell_type": "code",
   "execution_count": 69,
   "metadata": {
    "id": "1ndDwN1jwf_N"
   },
   "outputs": [
    {
     "data": {
      "text/html": [
       "<div>\n",
       "<style scoped>\n",
       "    .dataframe tbody tr th:only-of-type {\n",
       "        vertical-align: middle;\n",
       "    }\n",
       "\n",
       "    .dataframe tbody tr th {\n",
       "        vertical-align: top;\n",
       "    }\n",
       "\n",
       "    .dataframe thead th {\n",
       "        text-align: right;\n",
       "    }\n",
       "</style>\n",
       "<table border=\"1\" class=\"dataframe\">\n",
       "  <thead>\n",
       "    <tr style=\"text-align: right;\">\n",
       "      <th></th>\n",
       "      <th>text</th>\n",
       "      <th>cleaned</th>\n",
       "      <th>naive_bayes</th>\n",
       "      <th>log_reg</th>\n",
       "      <th>svm</th>\n",
       "      <th>r_forest</th>\n",
       "    </tr>\n",
       "  </thead>\n",
       "  <tbody>\n",
       "    <tr>\n",
       "      <th>0</th>\n",
       "      <td>Curious if coding is right for you, but not sure where to start? Learn the basics of JavaScript in one weekend with our Learn Coding Basics with JavaScript book!\\n\\nPurchase your copy here: https://t.co/VCLfrCGER8\\n\\n#learncoding #learntocode #codingbook #amazonreview #bookreview https://t.co/gpFWhniTE3</td>\n",
       "      <td>curious coding right not sure start learn basics javascript one weekend learn coding basics javascript book purchase copy</td>\n",
       "      <td>negative</td>\n",
       "      <td>negative</td>\n",
       "      <td>negative</td>\n",
       "      <td>negative</td>\n",
       "    </tr>\n",
       "    <tr>\n",
       "      <th>1</th>\n",
       "      <td>Curious if coding is right for you, but not sure where to start? Learn the basics of JavaScript in one weekend with our Learn Coding Basics with JavaScript book!\\n\\nPurchase your copy here: https://t.co/tof0RsvrTY\\n\\n#learncoding #learntocode #codingbook #amazonreview #bookreview https://t.co/vuryvSMEAn</td>\n",
       "      <td>curious coding right not sure start learn basics javascript one weekend learn coding basics javascript book purchase copy</td>\n",
       "      <td>negative</td>\n",
       "      <td>negative</td>\n",
       "      <td>negative</td>\n",
       "      <td>negative</td>\n",
       "    </tr>\n",
       "    <tr>\n",
       "      <th>2</th>\n",
       "      <td>Whenever I see the @amazon commercial about all the amazing things they’ve done for us, 🙄 I ask aloud, “Then why do I pay more taxes?!” 😡 #AmazonReview https://t.co/WxJvht7Ifl</td>\n",
       "      <td>whenever see commercial amazing things done us ask aloud pay taxes</td>\n",
       "      <td>positive</td>\n",
       "      <td>positive</td>\n",
       "      <td>positive</td>\n",
       "      <td>positive</td>\n",
       "    </tr>\n",
       "    <tr>\n",
       "      <th>3</th>\n",
       "      <td>RT @shaili_shail: @AmazonHelp @ShieldVoC @amazonIN Can someone urgently look into this as there seems to some fraud. Portal says sorry item…</td>\n",
       "      <td>rt shail someone urgently look seems fraud portal says sorry item</td>\n",
       "      <td>negative</td>\n",
       "      <td>negative</td>\n",
       "      <td>negative</td>\n",
       "      <td>positive</td>\n",
       "    </tr>\n",
       "    <tr>\n",
       "      <th>4</th>\n",
       "      <td>@AmazonHelp @ShieldVoC @amazonIN Can someone urgently look into this as there seems to some fraud. Portal says sorry item running late and you guys are also seeking my feedback on delivery.\\n\\n@JagoGrahakJago_ @JagoGrahakJagoo @ConsumersAffair @ConsumrConxion\\n@JeffBezos #AmazonReview #amazondeals</td>\n",
       "      <td>someone urgently look seems fraud portal says sorry item running late guys also seeking feedback delivery</td>\n",
       "      <td>negative</td>\n",
       "      <td>negative</td>\n",
       "      <td>negative</td>\n",
       "      <td>positive</td>\n",
       "    </tr>\n",
       "    <tr>\n",
       "      <th>5</th>\n",
       "      <td>🧡Free product🧡\\nNeed re-view\\nRefund instant \\nUS Only\\nPM me if interested\\nThank you\\n\\n#usreviewer #producttester #usreviewers #amazonreviewer #amazonfreebies #freebies #usa #reviewer #amazondeals #amazonus #amazonreviews #amazonreview #amazonprime #amazon #usareviewer #amazonusa https://t.co/gUsZcZoGyn</td>\n",
       "      <td>free product need view refund instant us pm interested thank</td>\n",
       "      <td>negative</td>\n",
       "      <td>negative</td>\n",
       "      <td>negative</td>\n",
       "      <td>positive</td>\n",
       "    </tr>\n",
       "    <tr>\n",
       "      <th>6</th>\n",
       "      <td>@AmazonHelp @amazonIN if you are unable to see account details and unable to read history of on Twitter for the issue, then stop giving random, absurd replies and solutions here. #AmazonPrime #amazonretail #CustomerExperience #CustomerService #Amazon #AmazonReview</td>\n",
       "      <td>unable see account details unable read history twitter issue stop giving random absurd replies solutions</td>\n",
       "      <td>positive</td>\n",
       "      <td>positive</td>\n",
       "      <td>positive</td>\n",
       "      <td>positive</td>\n",
       "    </tr>\n",
       "    <tr>\n",
       "      <th>7</th>\n",
       "      <td>💚🧵SEWING KIT FOR ONLY $17.97 - AMAZON REVIEW 🧵💚If you enjoyed this #review, please #like &amp;amp; #subscribe to my #youtubechannel.\\n\\nhttps://t.co/XBCaRvW6i5\\n\\n#amazon #amazonreview #sewing #reviews #howto #blog #blogging #DIY #sewingproject #makersgonnamake #blogger #sewersgonnasew</td>\n",
       "      <td>sewing kit amazon review enjoyed please amp</td>\n",
       "      <td>negative</td>\n",
       "      <td>positive</td>\n",
       "      <td>positive</td>\n",
       "      <td>positive</td>\n",
       "    </tr>\n",
       "    <tr>\n",
       "      <th>8</th>\n",
       "      <td>Need review on Amazon usa, like and massage me to get it^.^\\n#amazonreview \\n#amazonusareviewer \\n#usamazonreview \\n#makeupusa \\n#usamakeup \\n#beautyusa \\n#beautyringlight https://t.co/AOTXacKu2i</td>\n",
       "      <td>need review amazon usa like massage get</td>\n",
       "      <td>negative</td>\n",
       "      <td>positive</td>\n",
       "      <td>positive</td>\n",
       "      <td>positive</td>\n",
       "    </tr>\n",
       "    <tr>\n",
       "      <th>9</th>\n",
       "      <td>Hi, do you wanna get the yoni pearls for FREE?\\nHere comes a big opportunity!!\\n\\nWhat the testers need to do is leave a 5-star review on our Amazon website and attach the pictures.\\n\\nIf you are interested, please DM me for specific steps.\\n\\n#amazon #amazonreview #review #freeproducts https://t.co/a3IsfjVt0o</td>\n",
       "      <td>hi wanna get yoni pearls free comes big opportunity testers need leave star review amazon website attach pictures interested please dm specific steps</td>\n",
       "      <td>negative</td>\n",
       "      <td>negative</td>\n",
       "      <td>negative</td>\n",
       "      <td>positive</td>\n",
       "    </tr>\n",
       "    <tr>\n",
       "      <th>10</th>\n",
       "      <td>Literally.. just need a replacement cushion.. like I'll even pay for it even tho I paid or a protection plan.. @amazon #Amazon #amazonreview https://t.co/UulJO3rJwy</td>\n",
       "      <td>literally need replacement cushion like even pay even tho paid protection plan</td>\n",
       "      <td>negative</td>\n",
       "      <td>negative</td>\n",
       "      <td>negative</td>\n",
       "      <td>positive</td>\n",
       "    </tr>\n",
       "    <tr>\n",
       "      <th>11</th>\n",
       "      <td>Sooo.. I bought an @amazon brand rivet revolve modern sofa last summer when I moved into my new apt. I just need a new cushion and they are telling me my only option is to replace the whole couch.. #Amazon #AmazonReview</td>\n",
       "      <td>sooo bought brand rivet revolve modern sofa last summer moved new apt need new cushion telling option replace whole couch</td>\n",
       "      <td>positive</td>\n",
       "      <td>positive</td>\n",
       "      <td>positive</td>\n",
       "      <td>positive</td>\n",
       "    </tr>\n",
       "    <tr>\n",
       "      <th>12</th>\n",
       "      <td>We appreciate your feedback &amp;amp; always try to excel our products &amp;amp; services.\\n#Oracura #customerreview #amazonreview #happycustomer #happycustomersmakeushappy https://t.co/bYQ8xogVQv</td>\n",
       "      <td>appreciate feedback amp always try excel products amp services</td>\n",
       "      <td>positive</td>\n",
       "      <td>positive</td>\n",
       "      <td>positive</td>\n",
       "      <td>positive</td>\n",
       "    </tr>\n",
       "    <tr>\n",
       "      <th>13</th>\n",
       "      <td>Organic First World War ‘old Bill’ soap gift set of 2 (all skin types) https://t.co/QLnT24d7QZ\\n£10 for 2 with free delivery \\n#history #ww1 #frontline #soap #handmade #organic #Biodegradable #smallbusiness #free #Amazon #AmazonWishList #AmazonDeals #AmazonReview #artist #cosmetic.</td>\n",
       "      <td>organic first world war old bill soap gift set skin types free delivery</td>\n",
       "      <td>positive</td>\n",
       "      <td>positive</td>\n",
       "      <td>positive</td>\n",
       "      <td>positive</td>\n",
       "    </tr>\n",
       "    <tr>\n",
       "      <th>14</th>\n",
       "      <td>Difference Between Dot Matrix and Laser Printer\\n#Amazon #Amazonreview #printer #bestprinter #Printerever #DifferenceBetweenDotMatrixandLaserPrinter #muchlove #WWEHOF #MayansFX #DubNation #JoseAbreu #Caratini #JDMartinez\\nhttps://t.co/2PhPHY8a1H https://t.co/RtiNUVVoeW</td>\n",
       "      <td>difference dot matrix laser printer</td>\n",
       "      <td>negative</td>\n",
       "      <td>positive</td>\n",
       "      <td>positive</td>\n",
       "      <td>positive</td>\n",
       "    </tr>\n",
       "  </tbody>\n",
       "</table>\n",
       "</div>"
      ],
      "text/plain": [
       "                                                                                                                                                                                                                                                                                                                       text  \\\n",
       "0          Curious if coding is right for you, but not sure where to start? Learn the basics of JavaScript in one weekend with our Learn Coding Basics with JavaScript book!\\n\\nPurchase your copy here: https://t.co/VCLfrCGER8\\n\\n#learncoding #learntocode #codingbook #amazonreview #bookreview https://t.co/gpFWhniTE3   \n",
       "1          Curious if coding is right for you, but not sure where to start? Learn the basics of JavaScript in one weekend with our Learn Coding Basics with JavaScript book!\\n\\nPurchase your copy here: https://t.co/tof0RsvrTY\\n\\n#learncoding #learntocode #codingbook #amazonreview #bookreview https://t.co/vuryvSMEAn   \n",
       "2                                                                                                                                           Whenever I see the @amazon commercial about all the amazing things they’ve done for us, 🙄 I ask aloud, “Then why do I pay more taxes?!” 😡 #AmazonReview https://t.co/WxJvht7Ifl   \n",
       "3                                                                                                                                                                              RT @shaili_shail: @AmazonHelp @ShieldVoC @amazonIN Can someone urgently look into this as there seems to some fraud. Portal says sorry item…   \n",
       "4                @AmazonHelp @ShieldVoC @amazonIN Can someone urgently look into this as there seems to some fraud. Portal says sorry item running late and you guys are also seeking my feedback on delivery.\\n\\n@JagoGrahakJago_ @JagoGrahakJagoo @ConsumersAffair @ConsumrConxion\\n@JeffBezos #AmazonReview #amazondeals   \n",
       "5       🧡Free product🧡\\nNeed re-view\\nRefund instant \\nUS Only\\nPM me if interested\\nThank you\\n\\n#usreviewer #producttester #usreviewers #amazonreviewer #amazonfreebies #freebies #usa #reviewer #amazondeals #amazonus #amazonreviews #amazonreview #amazonprime #amazon #usareviewer #amazonusa https://t.co/gUsZcZoGyn   \n",
       "6                                                  @AmazonHelp @amazonIN if you are unable to see account details and unable to read history of on Twitter for the issue, then stop giving random, absurd replies and solutions here. #AmazonPrime #amazonretail #CustomerExperience #CustomerService #Amazon #AmazonReview   \n",
       "7                                💚🧵SEWING KIT FOR ONLY $17.97 - AMAZON REVIEW 🧵💚If you enjoyed this #review, please #like &amp; #subscribe to my #youtubechannel.\\n\\nhttps://t.co/XBCaRvW6i5\\n\\n#amazon #amazonreview #sewing #reviews #howto #blog #blogging #DIY #sewingproject #makersgonnamake #blogger #sewersgonnasew   \n",
       "8                                                                                                                       Need review on Amazon usa, like and massage me to get it^.^\\n#amazonreview \\n#amazonusareviewer \\n#usamazonreview \\n#makeupusa \\n#usamakeup \\n#beautyusa \\n#beautyringlight https://t.co/AOTXacKu2i   \n",
       "9   Hi, do you wanna get the yoni pearls for FREE?\\nHere comes a big opportunity!!\\n\\nWhat the testers need to do is leave a 5-star review on our Amazon website and attach the pictures.\\n\\nIf you are interested, please DM me for specific steps.\\n\\n#amazon #amazonreview #review #freeproducts https://t.co/a3IsfjVt0o   \n",
       "10                                                                                                                                                     Literally.. just need a replacement cushion.. like I'll even pay for it even tho I paid or a protection plan.. @amazon #Amazon #amazonreview https://t.co/UulJO3rJwy   \n",
       "11                                                                                              Sooo.. I bought an @amazon brand rivet revolve modern sofa last summer when I moved into my new apt. I just need a new cushion and they are telling me my only option is to replace the whole couch.. #Amazon #AmazonReview   \n",
       "12                                                                                                                             We appreciate your feedback &amp; always try to excel our products &amp; services.\\n#Oracura #customerreview #amazonreview #happycustomer #happycustomersmakeushappy https://t.co/bYQ8xogVQv   \n",
       "13                               Organic First World War ‘old Bill’ soap gift set of 2 (all skin types) https://t.co/QLnT24d7QZ\\n£10 for 2 with free delivery \\n#history #ww1 #frontline #soap #handmade #organic #Biodegradable #smallbusiness #free #Amazon #AmazonWishList #AmazonDeals #AmazonReview #artist #cosmetic.   \n",
       "14                                            Difference Between Dot Matrix and Laser Printer\\n#Amazon #Amazonreview #printer #bestprinter #Printerever #DifferenceBetweenDotMatrixandLaserPrinter #muchlove #WWEHOF #MayansFX #DubNation #JoseAbreu #Caratini #JDMartinez\\nhttps://t.co/2PhPHY8a1H https://t.co/RtiNUVVoeW   \n",
       "\n",
       "                                                                                                                                                  cleaned  \\\n",
       "0                               curious coding right not sure start learn basics javascript one weekend learn coding basics javascript book purchase copy   \n",
       "1                               curious coding right not sure start learn basics javascript one weekend learn coding basics javascript book purchase copy   \n",
       "2                                                                                      whenever see commercial amazing things done us ask aloud pay taxes   \n",
       "3                                                                                       rt shail someone urgently look seems fraud portal says sorry item   \n",
       "4                                               someone urgently look seems fraud portal says sorry item running late guys also seeking feedback delivery   \n",
       "5                                                                                            free product need view refund instant us pm interested thank   \n",
       "6                                                unable see account details unable read history twitter issue stop giving random absurd replies solutions   \n",
       "7                                                                                                             sewing kit amazon review enjoyed please amp   \n",
       "8                                                                                                                 need review amazon usa like massage get   \n",
       "9   hi wanna get yoni pearls free comes big opportunity testers need leave star review amazon website attach pictures interested please dm specific steps   \n",
       "10                                                                         literally need replacement cushion like even pay even tho paid protection plan   \n",
       "11                              sooo bought brand rivet revolve modern sofa last summer moved new apt need new cushion telling option replace whole couch   \n",
       "12                                                                                         appreciate feedback amp always try excel products amp services   \n",
       "13                                                                                organic first world war old bill soap gift set skin types free delivery   \n",
       "14                                                                                                                    difference dot matrix laser printer   \n",
       "\n",
       "   naive_bayes   log_reg       svm  r_forest  \n",
       "0     negative  negative  negative  negative  \n",
       "1     negative  negative  negative  negative  \n",
       "2     positive  positive  positive  positive  \n",
       "3     negative  negative  negative  positive  \n",
       "4     negative  negative  negative  positive  \n",
       "5     negative  negative  negative  positive  \n",
       "6     positive  positive  positive  positive  \n",
       "7     negative  positive  positive  positive  \n",
       "8     negative  positive  positive  positive  \n",
       "9     negative  negative  negative  positive  \n",
       "10    negative  negative  negative  positive  \n",
       "11    positive  positive  positive  positive  \n",
       "12    positive  positive  positive  positive  \n",
       "13    positive  positive  positive  positive  \n",
       "14    negative  positive  positive  positive  "
      ]
     },
     "execution_count": 69,
     "metadata": {},
     "output_type": "execute_result"
    }
   ],
   "source": [
    "# Printing the results for the 10 first elements\n",
    "df_text.iloc[:15,[1, 2, 4, 5, 6, 7]]"
   ]
  },
  {
   "cell_type": "code",
   "execution_count": 104,
   "metadata": {},
   "outputs": [
    {
     "data": {
      "text/html": [
       "<div>\n",
       "<style scoped>\n",
       "    .dataframe tbody tr th:only-of-type {\n",
       "        vertical-align: middle;\n",
       "    }\n",
       "\n",
       "    .dataframe tbody tr th {\n",
       "        vertical-align: top;\n",
       "    }\n",
       "\n",
       "    .dataframe thead th {\n",
       "        text-align: right;\n",
       "    }\n",
       "</style>\n",
       "<table border=\"1\" class=\"dataframe\">\n",
       "  <thead>\n",
       "    <tr style=\"text-align: right;\">\n",
       "      <th></th>\n",
       "      <th>tweet_location</th>\n",
       "      <th>text</th>\n",
       "      <th>cleaned</th>\n",
       "      <th>count</th>\n",
       "      <th>naive_bayes</th>\n",
       "      <th>log_reg</th>\n",
       "      <th>svm</th>\n",
       "      <th>r_forest</th>\n",
       "    </tr>\n",
       "  </thead>\n",
       "  <tbody>\n",
       "    <tr>\n",
       "      <th>2795</th>\n",
       "      <td>Swansea, Wales</td>\n",
       "      <td>RT @JoeVizanko: FREEFORMED HYBRIDS\\n\\n~I fell in love with this strange sci-fi from page one! It's a Hollywood blueprint~\\n\\nAmazon—&amp;gt; https://t…</td>\n",
       "      <td>rt freeformed hybrids fell love strange sci fi page one hollywood blueprint amazon gt https</td>\n",
       "      <td>15</td>\n",
       "      <td>negative</td>\n",
       "      <td>positive</td>\n",
       "      <td>positive</td>\n",
       "      <td>positive</td>\n",
       "    </tr>\n",
       "  </tbody>\n",
       "</table>\n",
       "</div>"
      ],
      "text/plain": [
       "      tweet_location  \\\n",
       "2795  Swansea, Wales   \n",
       "\n",
       "                                                                                                                                                     text  \\\n",
       "2795  RT @JoeVizanko: FREEFORMED HYBRIDS\\n\\n~I fell in love with this strange sci-fi from page one! It's a Hollywood blueprint~\\n\\nAmazon—&gt; https://t…   \n",
       "\n",
       "                                                                                          cleaned  \\\n",
       "2795  rt freeformed hybrids fell love strange sci fi page one hollywood blueprint amazon gt https   \n",
       "\n",
       "      count naive_bayes   log_reg       svm  r_forest  \n",
       "2795     15    negative  positive  positive  positive  "
      ]
     },
     "execution_count": 104,
     "metadata": {},
     "output_type": "execute_result"
    }
   ],
   "source": [
    "df_text.sample()"
   ]
  },
  {
   "cell_type": "markdown",
   "metadata": {},
   "source": [
    "<b> At this point we can conclude that Logistic Regression produced the most accurrate result among the 4 trained models."
   ]
  },
  {
   "cell_type": "code",
   "execution_count": 83,
   "metadata": {
    "id": "0sSIaKig0FRP"
   },
   "outputs": [
    {
     "data": {
      "text/plain": [
       "<matplotlib.axes._subplots.AxesSubplot at 0x24eb97a2f40>"
      ]
     },
     "execution_count": 83,
     "metadata": {},
     "output_type": "execute_result"
    },
    {
     "data": {
      "image/png": "[encoded data removed]",
      "text/plain": [
       "<Figure size 432x288 with 1 Axes>"
      ]
     },
     "metadata": {},
     "output_type": "display_data"
    }
   ],
   "source": [
    "import matplotlib.pyplot as plt\n",
    "\n",
    "df_text['log_reg'].value_counts().plot(kind=\"bar\")"
   ]
  }
 ],
 "metadata": {
  "colab": {
   "collapsed_sections": [],
   "name": "CBD_AmazonReviews_Final.ipynb",
   "provenance": []
  },
  "kernelspec": {
   "display_name": "Python 3",
   "language": "python",
   "name": "python3"
  },
  "language_info": {
   "codemirror_mode": {
    "name": "ipython",
    "version": 3
   },
   "file_extension": ".py",
   "mimetype": "text/x-python",
   "name": "python",
   "nbconvert_exporter": "python",
   "pygments_lexer": "ipython3",
   "version": "3.8.10"
  }
 },
 "nbformat": 4,
 "nbformat_minor": 1
}
